{
 "cells": [
  {
   "cell_type": "code",
   "execution_count": null,
   "id": "cec63f14",
   "metadata": {},
   "outputs": [],
   "source": []
  },
  {
   "cell_type": "code",
   "execution_count": 1,
   "id": "e91baf1e",
   "metadata": {},
   "outputs": [
    {
     "name": "stderr",
     "output_type": "stream",
     "text": [
      "UsageError: unrecognized arguments: line\n"
     ]
    }
   ],
   "source": [
    "import pandas as pd\n",
    "import numpy as np\n",
    "import matplotlib.pyplot as plt\n",
    "import seaborn as sns\n",
    "%matplotlib in line\n",
    "import warnings\n",
    "warnings.filterwarnings('ignore')\n"
   ]
  },
  {
   "cell_type": "code",
   "execution_count": 2,
   "id": "ab646386",
   "metadata": {},
   "outputs": [
    {
     "data": {
      "text/html": [
       "<div>\n",
       "<style scoped>\n",
       "    .dataframe tbody tr th:only-of-type {\n",
       "        vertical-align: middle;\n",
       "    }\n",
       "\n",
       "    .dataframe tbody tr th {\n",
       "        vertical-align: top;\n",
       "    }\n",
       "\n",
       "    .dataframe thead th {\n",
       "        text-align: right;\n",
       "    }\n",
       "</style>\n",
       "<table border=\"1\" class=\"dataframe\">\n",
       "  <thead>\n",
       "    <tr style=\"text-align: right;\">\n",
       "      <th></th>\n",
       "      <th>ID</th>\n",
       "      <th>age</th>\n",
       "      <th>job</th>\n",
       "      <th>marital</th>\n",
       "      <th>education</th>\n",
       "      <th>default</th>\n",
       "      <th>balance</th>\n",
       "      <th>housing</th>\n",
       "      <th>loan</th>\n",
       "      <th>contact</th>\n",
       "      <th>day</th>\n",
       "      <th>month</th>\n",
       "      <th>duration</th>\n",
       "      <th>campaign</th>\n",
       "      <th>pdays</th>\n",
       "      <th>previous</th>\n",
       "      <th>poutcome</th>\n",
       "      <th>subscribed</th>\n",
       "    </tr>\n",
       "  </thead>\n",
       "  <tbody>\n",
       "    <tr>\n",
       "      <th>0</th>\n",
       "      <td>26110</td>\n",
       "      <td>56</td>\n",
       "      <td>admin.</td>\n",
       "      <td>married</td>\n",
       "      <td>unknown</td>\n",
       "      <td>no</td>\n",
       "      <td>1933</td>\n",
       "      <td>no</td>\n",
       "      <td>no</td>\n",
       "      <td>telephone</td>\n",
       "      <td>19</td>\n",
       "      <td>nov</td>\n",
       "      <td>44</td>\n",
       "      <td>2</td>\n",
       "      <td>-1</td>\n",
       "      <td>0</td>\n",
       "      <td>unknown</td>\n",
       "      <td>no</td>\n",
       "    </tr>\n",
       "    <tr>\n",
       "      <th>1</th>\n",
       "      <td>40576</td>\n",
       "      <td>31</td>\n",
       "      <td>unknown</td>\n",
       "      <td>married</td>\n",
       "      <td>secondary</td>\n",
       "      <td>no</td>\n",
       "      <td>3</td>\n",
       "      <td>no</td>\n",
       "      <td>no</td>\n",
       "      <td>cellular</td>\n",
       "      <td>20</td>\n",
       "      <td>jul</td>\n",
       "      <td>91</td>\n",
       "      <td>2</td>\n",
       "      <td>-1</td>\n",
       "      <td>0</td>\n",
       "      <td>unknown</td>\n",
       "      <td>no</td>\n",
       "    </tr>\n",
       "    <tr>\n",
       "      <th>2</th>\n",
       "      <td>15320</td>\n",
       "      <td>27</td>\n",
       "      <td>services</td>\n",
       "      <td>married</td>\n",
       "      <td>secondary</td>\n",
       "      <td>no</td>\n",
       "      <td>891</td>\n",
       "      <td>yes</td>\n",
       "      <td>no</td>\n",
       "      <td>cellular</td>\n",
       "      <td>18</td>\n",
       "      <td>jul</td>\n",
       "      <td>240</td>\n",
       "      <td>1</td>\n",
       "      <td>-1</td>\n",
       "      <td>0</td>\n",
       "      <td>unknown</td>\n",
       "      <td>no</td>\n",
       "    </tr>\n",
       "    <tr>\n",
       "      <th>3</th>\n",
       "      <td>43962</td>\n",
       "      <td>57</td>\n",
       "      <td>management</td>\n",
       "      <td>divorced</td>\n",
       "      <td>tertiary</td>\n",
       "      <td>no</td>\n",
       "      <td>3287</td>\n",
       "      <td>no</td>\n",
       "      <td>no</td>\n",
       "      <td>cellular</td>\n",
       "      <td>22</td>\n",
       "      <td>jun</td>\n",
       "      <td>867</td>\n",
       "      <td>1</td>\n",
       "      <td>84</td>\n",
       "      <td>3</td>\n",
       "      <td>success</td>\n",
       "      <td>yes</td>\n",
       "    </tr>\n",
       "    <tr>\n",
       "      <th>4</th>\n",
       "      <td>29842</td>\n",
       "      <td>31</td>\n",
       "      <td>technician</td>\n",
       "      <td>married</td>\n",
       "      <td>secondary</td>\n",
       "      <td>no</td>\n",
       "      <td>119</td>\n",
       "      <td>yes</td>\n",
       "      <td>no</td>\n",
       "      <td>cellular</td>\n",
       "      <td>4</td>\n",
       "      <td>feb</td>\n",
       "      <td>380</td>\n",
       "      <td>1</td>\n",
       "      <td>-1</td>\n",
       "      <td>0</td>\n",
       "      <td>unknown</td>\n",
       "      <td>no</td>\n",
       "    </tr>\n",
       "  </tbody>\n",
       "</table>\n",
       "</div>"
      ],
      "text/plain": [
       "      ID  age         job   marital  education default  balance housing loan  \\\n",
       "0  26110   56      admin.   married    unknown      no     1933      no   no   \n",
       "1  40576   31     unknown   married  secondary      no        3      no   no   \n",
       "2  15320   27    services   married  secondary      no      891     yes   no   \n",
       "3  43962   57  management  divorced   tertiary      no     3287      no   no   \n",
       "4  29842   31  technician   married  secondary      no      119     yes   no   \n",
       "\n",
       "     contact  day month  duration  campaign  pdays  previous poutcome  \\\n",
       "0  telephone   19   nov        44         2     -1         0  unknown   \n",
       "1   cellular   20   jul        91         2     -1         0  unknown   \n",
       "2   cellular   18   jul       240         1     -1         0  unknown   \n",
       "3   cellular   22   jun       867         1     84         3  success   \n",
       "4   cellular    4   feb       380         1     -1         0  unknown   \n",
       "\n",
       "  subscribed  \n",
       "0         no  \n",
       "1         no  \n",
       "2         no  \n",
       "3        yes  \n",
       "4         no  "
      ]
     },
     "execution_count": 2,
     "metadata": {},
     "output_type": "execute_result"
    }
   ],
   "source": [
    "df=pd.read_csv('https://raw.githubusercontent.com/dsrscientist/dataset5/main/termdeposit_train.csv',sep=\",\")\n",
    "df.head()"
   ]
  },
  {
   "cell_type": "code",
   "execution_count": 3,
   "id": "35bef383",
   "metadata": {},
   "outputs": [
    {
     "data": {
      "text/plain": [
       "(31647, 18)"
      ]
     },
     "execution_count": 3,
     "metadata": {},
     "output_type": "execute_result"
    }
   ],
   "source": [
    "df.shape"
   ]
  },
  {
   "cell_type": "code",
   "execution_count": 4,
   "id": "52bb932f",
   "metadata": {},
   "outputs": [
    {
     "data": {
      "text/html": [
       "<div>\n",
       "<style scoped>\n",
       "    .dataframe tbody tr th:only-of-type {\n",
       "        vertical-align: middle;\n",
       "    }\n",
       "\n",
       "    .dataframe tbody tr th {\n",
       "        vertical-align: top;\n",
       "    }\n",
       "\n",
       "    .dataframe thead th {\n",
       "        text-align: right;\n",
       "    }\n",
       "</style>\n",
       "<table border=\"1\" class=\"dataframe\">\n",
       "  <thead>\n",
       "    <tr style=\"text-align: right;\">\n",
       "      <th></th>\n",
       "      <th>ID</th>\n",
       "      <th>age</th>\n",
       "      <th>job</th>\n",
       "      <th>marital</th>\n",
       "      <th>education</th>\n",
       "      <th>default</th>\n",
       "      <th>balance</th>\n",
       "      <th>housing</th>\n",
       "      <th>loan</th>\n",
       "      <th>contact</th>\n",
       "      <th>day</th>\n",
       "      <th>month</th>\n",
       "      <th>duration</th>\n",
       "      <th>campaign</th>\n",
       "      <th>pdays</th>\n",
       "      <th>previous</th>\n",
       "      <th>poutcome</th>\n",
       "      <th>subscribed</th>\n",
       "    </tr>\n",
       "  </thead>\n",
       "  <tbody>\n",
       "    <tr>\n",
       "      <th>31642</th>\n",
       "      <td>36483</td>\n",
       "      <td>29</td>\n",
       "      <td>management</td>\n",
       "      <td>single</td>\n",
       "      <td>tertiary</td>\n",
       "      <td>no</td>\n",
       "      <td>0</td>\n",
       "      <td>yes</td>\n",
       "      <td>no</td>\n",
       "      <td>cellular</td>\n",
       "      <td>12</td>\n",
       "      <td>may</td>\n",
       "      <td>116</td>\n",
       "      <td>2</td>\n",
       "      <td>-1</td>\n",
       "      <td>0</td>\n",
       "      <td>unknown</td>\n",
       "      <td>no</td>\n",
       "    </tr>\n",
       "    <tr>\n",
       "      <th>31643</th>\n",
       "      <td>40178</td>\n",
       "      <td>53</td>\n",
       "      <td>management</td>\n",
       "      <td>divorced</td>\n",
       "      <td>tertiary</td>\n",
       "      <td>no</td>\n",
       "      <td>380</td>\n",
       "      <td>no</td>\n",
       "      <td>yes</td>\n",
       "      <td>cellular</td>\n",
       "      <td>5</td>\n",
       "      <td>jun</td>\n",
       "      <td>438</td>\n",
       "      <td>2</td>\n",
       "      <td>-1</td>\n",
       "      <td>0</td>\n",
       "      <td>unknown</td>\n",
       "      <td>yes</td>\n",
       "    </tr>\n",
       "    <tr>\n",
       "      <th>31644</th>\n",
       "      <td>19710</td>\n",
       "      <td>32</td>\n",
       "      <td>management</td>\n",
       "      <td>single</td>\n",
       "      <td>tertiary</td>\n",
       "      <td>no</td>\n",
       "      <td>312</td>\n",
       "      <td>no</td>\n",
       "      <td>no</td>\n",
       "      <td>cellular</td>\n",
       "      <td>7</td>\n",
       "      <td>aug</td>\n",
       "      <td>37</td>\n",
       "      <td>3</td>\n",
       "      <td>-1</td>\n",
       "      <td>0</td>\n",
       "      <td>unknown</td>\n",
       "      <td>no</td>\n",
       "    </tr>\n",
       "    <tr>\n",
       "      <th>31645</th>\n",
       "      <td>38556</td>\n",
       "      <td>57</td>\n",
       "      <td>technician</td>\n",
       "      <td>married</td>\n",
       "      <td>secondary</td>\n",
       "      <td>no</td>\n",
       "      <td>225</td>\n",
       "      <td>yes</td>\n",
       "      <td>no</td>\n",
       "      <td>telephone</td>\n",
       "      <td>15</td>\n",
       "      <td>may</td>\n",
       "      <td>22</td>\n",
       "      <td>7</td>\n",
       "      <td>337</td>\n",
       "      <td>12</td>\n",
       "      <td>failure</td>\n",
       "      <td>no</td>\n",
       "    </tr>\n",
       "    <tr>\n",
       "      <th>31646</th>\n",
       "      <td>14156</td>\n",
       "      <td>55</td>\n",
       "      <td>management</td>\n",
       "      <td>divorced</td>\n",
       "      <td>secondary</td>\n",
       "      <td>no</td>\n",
       "      <td>204</td>\n",
       "      <td>yes</td>\n",
       "      <td>no</td>\n",
       "      <td>cellular</td>\n",
       "      <td>11</td>\n",
       "      <td>jul</td>\n",
       "      <td>1973</td>\n",
       "      <td>2</td>\n",
       "      <td>-1</td>\n",
       "      <td>0</td>\n",
       "      <td>unknown</td>\n",
       "      <td>yes</td>\n",
       "    </tr>\n",
       "  </tbody>\n",
       "</table>\n",
       "</div>"
      ],
      "text/plain": [
       "          ID  age         job   marital  education default  balance housing  \\\n",
       "31642  36483   29  management    single   tertiary      no        0     yes   \n",
       "31643  40178   53  management  divorced   tertiary      no      380      no   \n",
       "31644  19710   32  management    single   tertiary      no      312      no   \n",
       "31645  38556   57  technician   married  secondary      no      225     yes   \n",
       "31646  14156   55  management  divorced  secondary      no      204     yes   \n",
       "\n",
       "      loan    contact  day month  duration  campaign  pdays  previous  \\\n",
       "31642   no   cellular   12   may       116         2     -1         0   \n",
       "31643  yes   cellular    5   jun       438         2     -1         0   \n",
       "31644   no   cellular    7   aug        37         3     -1         0   \n",
       "31645   no  telephone   15   may        22         7    337        12   \n",
       "31646   no   cellular   11   jul      1973         2     -1         0   \n",
       "\n",
       "      poutcome subscribed  \n",
       "31642  unknown         no  \n",
       "31643  unknown        yes  \n",
       "31644  unknown         no  \n",
       "31645  failure         no  \n",
       "31646  unknown        yes  "
      ]
     },
     "execution_count": 4,
     "metadata": {},
     "output_type": "execute_result"
    }
   ],
   "source": [
    "df.tail()"
   ]
  },
  {
   "cell_type": "markdown",
   "id": "ebf38898",
   "metadata": {},
   "source": [
    "# dimension of dataset and structure"
   ]
  },
  {
   "cell_type": "code",
   "execution_count": 5,
   "id": "a4b986e1",
   "metadata": {},
   "outputs": [
    {
     "data": {
      "text/plain": [
       "Index(['ID', 'age', 'job', 'marital', 'education', 'default', 'balance',\n",
       "       'housing', 'loan', 'contact', 'day', 'month', 'duration', 'campaign',\n",
       "       'pdays', 'previous', 'poutcome', 'subscribed'],\n",
       "      dtype='object')"
      ]
     },
     "execution_count": 5,
     "metadata": {},
     "output_type": "execute_result"
    }
   ],
   "source": [
    "df.columns"
   ]
  },
  {
   "cell_type": "code",
   "execution_count": 6,
   "id": "16ccbbdb",
   "metadata": {},
   "outputs": [
    {
     "data": {
      "text/plain": [
       "ID             int64\n",
       "age            int64\n",
       "job           object\n",
       "marital       object\n",
       "education     object\n",
       "default       object\n",
       "balance        int64\n",
       "housing       object\n",
       "loan          object\n",
       "contact       object\n",
       "day            int64\n",
       "month         object\n",
       "duration       int64\n",
       "campaign       int64\n",
       "pdays          int64\n",
       "previous       int64\n",
       "poutcome      object\n",
       "subscribed    object\n",
       "dtype: object"
      ]
     },
     "execution_count": 6,
     "metadata": {},
     "output_type": "execute_result"
    }
   ],
   "source": [
    " df.dtypes"
   ]
  },
  {
   "cell_type": "code",
   "execution_count": 7,
   "id": "20cc5ec5",
   "metadata": {},
   "outputs": [
    {
     "data": {
      "text/plain": [
       "0"
      ]
     },
     "execution_count": 7,
     "metadata": {},
     "output_type": "execute_result"
    }
   ],
   "source": [
    "df.duplicated().sum() # checking for duplicate items"
   ]
  },
  {
   "cell_type": "markdown",
   "id": "7c85db30",
   "metadata": {},
   "source": [
    " **Note :-** There are no any rows in the dataset that are exact duplicates of each other."
   ]
  },
  {
   "cell_type": "code",
   "execution_count": 8,
   "id": "87e7c8cc",
   "metadata": {},
   "outputs": [
    {
     "data": {
      "text/plain": [
       "ID            0\n",
       "age           0\n",
       "job           0\n",
       "marital       0\n",
       "education     0\n",
       "default       0\n",
       "balance       0\n",
       "housing       0\n",
       "loan          0\n",
       "contact       0\n",
       "day           0\n",
       "month         0\n",
       "duration      0\n",
       "campaign      0\n",
       "pdays         0\n",
       "previous      0\n",
       "poutcome      0\n",
       "subscribed    0\n",
       "dtype: int64"
      ]
     },
     "execution_count": 8,
     "metadata": {},
     "output_type": "execute_result"
    }
   ],
   "source": [
    "df.isnull().sum() # check for null values"
   ]
  },
  {
   "cell_type": "code",
   "execution_count": null,
   "id": "81e70984",
   "metadata": {},
   "outputs": [],
   "source": []
  },
  {
   "cell_type": "code",
   "execution_count": null,
   "id": "20d97b16",
   "metadata": {},
   "outputs": [],
   "source": []
  },
  {
   "cell_type": "markdown",
   "id": "27a98070",
   "metadata": {},
   "source": [
    "# Statistical Summary and Correlation Matrix Graph"
   ]
  },
  {
   "cell_type": "code",
   "execution_count": 9,
   "id": "7c71bd68",
   "metadata": {},
   "outputs": [
    {
     "data": {
      "text/html": [
       "<div>\n",
       "<style scoped>\n",
       "    .dataframe tbody tr th:only-of-type {\n",
       "        vertical-align: middle;\n",
       "    }\n",
       "\n",
       "    .dataframe tbody tr th {\n",
       "        vertical-align: top;\n",
       "    }\n",
       "\n",
       "    .dataframe thead th {\n",
       "        text-align: right;\n",
       "    }\n",
       "</style>\n",
       "<table border=\"1\" class=\"dataframe\">\n",
       "  <thead>\n",
       "    <tr style=\"text-align: right;\">\n",
       "      <th></th>\n",
       "      <th>ID</th>\n",
       "      <th>age</th>\n",
       "      <th>balance</th>\n",
       "      <th>day</th>\n",
       "      <th>duration</th>\n",
       "      <th>campaign</th>\n",
       "      <th>pdays</th>\n",
       "      <th>previous</th>\n",
       "    </tr>\n",
       "  </thead>\n",
       "  <tbody>\n",
       "    <tr>\n",
       "      <th>count</th>\n",
       "      <td>31647.000000</td>\n",
       "      <td>31647.000000</td>\n",
       "      <td>31647.000000</td>\n",
       "      <td>31647.000000</td>\n",
       "      <td>31647.000000</td>\n",
       "      <td>31647.000000</td>\n",
       "      <td>31647.000000</td>\n",
       "      <td>31647.000000</td>\n",
       "    </tr>\n",
       "    <tr>\n",
       "      <th>mean</th>\n",
       "      <td>22563.972162</td>\n",
       "      <td>40.957247</td>\n",
       "      <td>1363.890258</td>\n",
       "      <td>15.835466</td>\n",
       "      <td>258.113534</td>\n",
       "      <td>2.765697</td>\n",
       "      <td>39.576042</td>\n",
       "      <td>0.574272</td>\n",
       "    </tr>\n",
       "    <tr>\n",
       "      <th>std</th>\n",
       "      <td>13075.936990</td>\n",
       "      <td>10.625134</td>\n",
       "      <td>3028.304293</td>\n",
       "      <td>8.337097</td>\n",
       "      <td>257.118973</td>\n",
       "      <td>3.113830</td>\n",
       "      <td>99.317592</td>\n",
       "      <td>2.422529</td>\n",
       "    </tr>\n",
       "    <tr>\n",
       "      <th>min</th>\n",
       "      <td>2.000000</td>\n",
       "      <td>18.000000</td>\n",
       "      <td>-8019.000000</td>\n",
       "      <td>1.000000</td>\n",
       "      <td>0.000000</td>\n",
       "      <td>1.000000</td>\n",
       "      <td>-1.000000</td>\n",
       "      <td>0.000000</td>\n",
       "    </tr>\n",
       "    <tr>\n",
       "      <th>25%</th>\n",
       "      <td>11218.000000</td>\n",
       "      <td>33.000000</td>\n",
       "      <td>73.000000</td>\n",
       "      <td>8.000000</td>\n",
       "      <td>104.000000</td>\n",
       "      <td>1.000000</td>\n",
       "      <td>-1.000000</td>\n",
       "      <td>0.000000</td>\n",
       "    </tr>\n",
       "    <tr>\n",
       "      <th>50%</th>\n",
       "      <td>22519.000000</td>\n",
       "      <td>39.000000</td>\n",
       "      <td>450.000000</td>\n",
       "      <td>16.000000</td>\n",
       "      <td>180.000000</td>\n",
       "      <td>2.000000</td>\n",
       "      <td>-1.000000</td>\n",
       "      <td>0.000000</td>\n",
       "    </tr>\n",
       "    <tr>\n",
       "      <th>75%</th>\n",
       "      <td>33879.500000</td>\n",
       "      <td>48.000000</td>\n",
       "      <td>1431.000000</td>\n",
       "      <td>21.000000</td>\n",
       "      <td>318.500000</td>\n",
       "      <td>3.000000</td>\n",
       "      <td>-1.000000</td>\n",
       "      <td>0.000000</td>\n",
       "    </tr>\n",
       "    <tr>\n",
       "      <th>max</th>\n",
       "      <td>45211.000000</td>\n",
       "      <td>95.000000</td>\n",
       "      <td>102127.000000</td>\n",
       "      <td>31.000000</td>\n",
       "      <td>4918.000000</td>\n",
       "      <td>63.000000</td>\n",
       "      <td>871.000000</td>\n",
       "      <td>275.000000</td>\n",
       "    </tr>\n",
       "  </tbody>\n",
       "</table>\n",
       "</div>"
      ],
      "text/plain": [
       "                 ID           age        balance           day      duration  \\\n",
       "count  31647.000000  31647.000000   31647.000000  31647.000000  31647.000000   \n",
       "mean   22563.972162     40.957247    1363.890258     15.835466    258.113534   \n",
       "std    13075.936990     10.625134    3028.304293      8.337097    257.118973   \n",
       "min        2.000000     18.000000   -8019.000000      1.000000      0.000000   \n",
       "25%    11218.000000     33.000000      73.000000      8.000000    104.000000   \n",
       "50%    22519.000000     39.000000     450.000000     16.000000    180.000000   \n",
       "75%    33879.500000     48.000000    1431.000000     21.000000    318.500000   \n",
       "max    45211.000000     95.000000  102127.000000     31.000000   4918.000000   \n",
       "\n",
       "           campaign         pdays      previous  \n",
       "count  31647.000000  31647.000000  31647.000000  \n",
       "mean       2.765697     39.576042      0.574272  \n",
       "std        3.113830     99.317592      2.422529  \n",
       "min        1.000000     -1.000000      0.000000  \n",
       "25%        1.000000     -1.000000      0.000000  \n",
       "50%        2.000000     -1.000000      0.000000  \n",
       "75%        3.000000     -1.000000      0.000000  \n",
       "max       63.000000    871.000000    275.000000  "
      ]
     },
     "execution_count": 9,
     "metadata": {},
     "output_type": "execute_result"
    }
   ],
   "source": [
    "df.describe()"
   ]
  },
  {
   "cell_type": "markdown",
   "id": "1d396043",
   "metadata": {},
   "source": [
    "### **Note :-**\n",
    "\n",
    "- The **pdays column** contains values of **-1**, which indicate that certain customers were not contacted previously as part of the bank's marketing campaign.\n",
    "\n",
    "- The dataset includes a **large number of new customers**, as evidenced by the prevalence of 0 values in column previous, which suggest that many customers have not previously been contacted before this campaign.\n",
    "\n",
    "- The balance column contains some negative values, which could indicate that certain customers have overdrawn on their accounts or have outstanding debts. These **negative balances** suggest that some customers may be experiencing financial difficulties or challenges.\n",
    "\n",
    "- it appears that there are a small number of outliers in the **balance** and **duration** columns, as indicated by the notable gap between the values of the 75th percentile and the maximum values in these columns. This suggests that there may be a few extreme values that are skewing the distribution of the data in these columns. "
   ]
  },
  {
   "cell_type": "code",
   "execution_count": 10,
   "id": "c0553ff7",
   "metadata": {},
   "outputs": [
    {
     "data": {
      "text/plain": [
       "no     27932\n",
       "yes     3715\n",
       "Name: subscribed, dtype: int64"
      ]
     },
     "execution_count": 10,
     "metadata": {},
     "output_type": "execute_result"
    }
   ],
   "source": [
    "#check target value count\n",
    "df['subscribed'].value_counts()"
   ]
  },
  {
   "cell_type": "markdown",
   "id": "9b9c2e77",
   "metadata": {},
   "source": [
    "**Note :-**\n",
    "- The target column is highly imbalanced, with a **low ratio of positive responses (yes) to negative responses (no).** This is expected in a marketing campaign, as only a **small percentage of the target audience may be interested in the product being offered**, such as a term deposit in this case. However, the significant overrepresentation of \"no\" responses compared to \"yes\" responses suggests a class imbalance, which should be accounted for when building predictive models to ensure accurate results."
   ]
  },
  {
   "cell_type": "code",
   "execution_count": 11,
   "id": "40f62dd9",
   "metadata": {},
   "outputs": [
    {
     "data": {
      "text/plain": [
       "5135"
      ]
     },
     "execution_count": 11,
     "metadata": {},
     "output_type": "execute_result"
    }
   ],
   "source": [
    "# Lets check how many customers balance is 0 or negative\n",
    "\n",
    "df[(df['balance']<=0)].value_counts().sum()"
   ]
  },
  {
   "cell_type": "code",
   "execution_count": 12,
   "id": "cb5020ed",
   "metadata": {},
   "outputs": [
    {
     "data": {
      "text/plain": [
       "341"
      ]
     },
     "execution_count": 12,
     "metadata": {},
     "output_type": "execute_result"
    }
   ],
   "source": [
    "# Let's check how many customers subscribed to term deposit despite having a balance of 0 or negative\n",
    "\n",
    "df[(df['balance']<=0) & (df['subscribed']=='yes')].value_counts().sum()"
   ]
  },
  {
   "cell_type": "markdown",
   "id": "0077a529",
   "metadata": {},
   "source": [
    "**Note :-**\n",
    "- It seems strange that there are **5135 customers with a zero or negative bank balance** who also have housing loans or personal loans or credit in default. Out of these 5135 customers, 341 customers would subscribe to a term deposit.\n",
    "\n",
    "-  there is a very low percentage(6.8%) of customers with a negative or zero bank balance who subscribed to a term deposit. This could indicate that there is some error in the data or that these customers are not a good target for marketing campaigns.\n",
    "\n",
    "- We need to further investigate the data to determine if there are any discernible patterns."
   ]
  },
  {
   "cell_type": "code",
   "execution_count": 13,
   "id": "5ca60b6d",
   "metadata": {},
   "outputs": [
    {
     "data": {
      "text/plain": [
       "'5.16%'"
      ]
     },
     "execution_count": 13,
     "metadata": {},
     "output_type": "execute_result"
    }
   ],
   "source": [
    "# find out the percentage of customers with a primary education who have subscribed to term deposit and have a non-positive bank balance.\n",
    "\n",
    "str(round(df[(df['balance']<=0) & (df['subscribed']=='yes') & (df['education']=='primary')].value_counts().sum() / \n",
    "          df[(df['balance']<=0) & (df['education']=='primary')].value_counts().sum()*100,2)) + '%'"
   ]
  },
  {
   "cell_type": "code",
   "execution_count": 14,
   "id": "c4c76ba6",
   "metadata": {},
   "outputs": [
    {
     "data": {
      "text/plain": [
       "'22.52%'"
      ]
     },
     "execution_count": 14,
     "metadata": {},
     "output_type": "execute_result"
    }
   ],
   "source": [
    "# find out the percentage of customers with a secondary education who have subscribed to term deposit and have a non-positive bank balance.\n",
    "\n",
    "str(round(df[(df['balance']<=0) & (df['subscribed']=='yes') & (df['education']=='secondary')].value_counts().sum() / \n",
    "          df[(df['balance']<=0) & (df['education']=='primary')].value_counts().sum()*100,2)) + '%'"
   ]
  },
  {
   "cell_type": "code",
   "execution_count": 15,
   "id": "cfda4706",
   "metadata": {},
   "outputs": [
    {
     "data": {
      "text/plain": [
       "'14.47%'"
      ]
     },
     "execution_count": 15,
     "metadata": {},
     "output_type": "execute_result"
    }
   ],
   "source": [
    "# find out the percentage of customers with a tertiary education who have subscribed to term deposit and have a non-positive bank balance.\n",
    "\n",
    "str(round(df[(df['balance']<=0) & (df['subscribed']=='yes') & (df['education']=='tertiary')].value_counts().sum() / \n",
    "          df[(df['balance']<=0) & (df['education']=='primary')].value_counts().sum()*100,2)) + '%'"
   ]
  },
  {
   "cell_type": "code",
   "execution_count": 16,
   "id": "547a6fa9",
   "metadata": {},
   "outputs": [
    {
     "data": {
      "text/plain": [
       "'15.79%'"
      ]
     },
     "execution_count": 16,
     "metadata": {},
     "output_type": "execute_result"
    }
   ],
   "source": [
    "# find out the percentage of customers who is student who have subscribed to term deposit and have a non-positive bank balance.\n",
    "\n",
    "str(round(df[(df['balance']<=0) & (df['subscribed']=='yes') & (df['job']=='student')].value_counts().sum() / \n",
    "          df[(df['balance']<=0) & (df['job']=='student')].value_counts().sum()*100,2)) + '%'"
   ]
  },
  {
   "cell_type": "code",
   "execution_count": 17,
   "id": "662804cc",
   "metadata": {},
   "outputs": [
    {
     "data": {
      "text/plain": [
       "'14.36%'"
      ]
     },
     "execution_count": 17,
     "metadata": {},
     "output_type": "execute_result"
    }
   ],
   "source": [
    "# find out the percentage of customers who is retired who have subscribed to term deposit and have a non-positive bank balance.\n",
    "\n",
    "str(round(df[(df['balance']<=0) & (df['subscribed']=='yes') & (df['job']=='retired')].value_counts().sum() / \n",
    "          df[(df['balance']<=0) & (df['job']=='retired')].value_counts().sum()*100,2)) + '%'"
   ]
  },
  {
   "cell_type": "markdown",
   "id": "47f7c304",
   "metadata": {},
   "source": [
    "**Observations:-**\n",
    "- Among customers with a non-positive bank balance, those with a secondary education have the highest percentage of subscribing to a term deposit (22.52%), followed by tertiary education (14.47%) and primary education (5.16%).\n",
    "\n",
    "- Students with a non-positive bank balance have the highest percentage of subscribing to a term deposit (15.79%), followed by retired customers (14.36%).\n",
    "\n",
    "- Out of the total 5135 customers with a non-positive bank balance, only 341 subscribed to a term deposit, indicating that the majority of customers with a non-positive bank balance did not subscribe to a term deposit.\n",
    "\n",
    "- It may be useful to gather additional information on these customers, such as their financial history and reasons for having a non-positive bank balance, to gain a better understanding of their behavior and improve targeting of future marketing campaigns.\n",
    "\n",
    "- but there is no any clear relationship between any of the columns. The data is imbalanced and does not make sense. Negative or zero bank balance and outstanding loans make it unlikely for customers to subscribe to term deposits. Therefore, we consider this a type of outlier.\n",
    "\n",
    "- We decided to drop the 341 values of customers with a non-positive bank balance who subscribed to term deposits to eliminate outliers. This action is taken based on real time scinario because this is not make sense right ? which will save man-hours and resources while yielding more accurate predictions."
   ]
  },
  {
   "cell_type": "code",
   "execution_count": 18,
   "id": "24d525b1",
   "metadata": {},
   "outputs": [],
   "source": [
    "# Dropping unnecessary rows\n",
    "\n",
    "df = df.drop(df[(df['balance']<=0) & (df['subscribed']=='yes')].index)"
   ]
  },
  {
   "cell_type": "code",
   "execution_count": 19,
   "id": "a9ccc07b",
   "metadata": {},
   "outputs": [
    {
     "data": {
      "text/plain": [
       "(31306, 18)"
      ]
     },
     "execution_count": 19,
     "metadata": {},
     "output_type": "execute_result"
    }
   ],
   "source": [
    "df.shape"
   ]
  },
  {
   "cell_type": "markdown",
   "id": "2f95be5a",
   "metadata": {},
   "source": [
    "# EDA"
   ]
  },
  {
   "cell_type": "code",
   "execution_count": 20,
   "id": "105047cd",
   "metadata": {},
   "outputs": [
    {
     "data": {
      "text/plain": [
       "['job',\n",
       " 'marital',\n",
       " 'education',\n",
       " 'default',\n",
       " 'housing',\n",
       " 'loan',\n",
       " 'contact',\n",
       " 'month',\n",
       " 'poutcome',\n",
       " 'subscribed']"
      ]
     },
     "execution_count": 20,
     "metadata": {},
     "output_type": "execute_result"
    }
   ],
   "source": [
    "#find categorical datatypes\n",
    "cat=[columns for columns in df.columns if (df[columns].dtypes=='object')]\n",
    "cat"
   ]
  },
  {
   "cell_type": "code",
   "execution_count": 21,
   "id": "8c9b488d",
   "metadata": {},
   "outputs": [
    {
     "data": {
      "text/plain": [
       "['ID', 'age', 'balance', 'day', 'duration', 'campaign', 'pdays', 'previous']"
      ]
     },
     "execution_count": 21,
     "metadata": {},
     "output_type": "execute_result"
    }
   ],
   "source": [
    "#find numerical datatypes\n",
    "num=[columns for columns in df.columns if (df[columns].dtypes!='object')]\n",
    "num"
   ]
  },
  {
   "cell_type": "markdown",
   "id": "842bd1ff",
   "metadata": {},
   "source": [
    "# **`Univariate and Bivariate Analysis of catagorical variables`**"
   ]
  },
  {
   "cell_type": "code",
   "execution_count": 22,
   "id": "127750e8",
   "metadata": {},
   "outputs": [
    {
     "ename": "AttributeError",
     "evalue": "module 'matplotlib.pyplot' has no attribute 'xaxis'",
     "output_type": "error",
     "traceback": [
      "\u001b[1;31m---------------------------------------------------------------------------\u001b[0m",
      "\u001b[1;31mAttributeError\u001b[0m                            Traceback (most recent call last)",
      "\u001b[1;32m~\\AppData\\Local\\Temp\\ipykernel_8264\\3848132334.py\u001b[0m in \u001b[0;36m<module>\u001b[1;34m\u001b[0m\n\u001b[0;32m      1\u001b[0m \u001b[0msns\u001b[0m\u001b[1;33m.\u001b[0m\u001b[0mcountplot\u001b[0m\u001b[1;33m(\u001b[0m\u001b[0mdata\u001b[0m\u001b[1;33m=\u001b[0m\u001b[0mdf\u001b[0m\u001b[1;33m,\u001b[0m \u001b[0mx\u001b[0m\u001b[1;33m=\u001b[0m\u001b[1;34m'subscribed'\u001b[0m\u001b[1;33m,\u001b[0m \u001b[0mcolor\u001b[0m\u001b[1;33m=\u001b[0m\u001b[1;34m'y'\u001b[0m\u001b[1;33m)\u001b[0m\u001b[1;33m\u001b[0m\u001b[1;33m\u001b[0m\u001b[0m\n\u001b[1;32m----> 2\u001b[1;33m \u001b[0mplt\u001b[0m\u001b[1;33m.\u001b[0m\u001b[0mxaxis\u001b[0m\u001b[1;33m(\u001b[0m\u001b[1;34m'Term deposit subscription'\u001b[0m\u001b[1;33m,\u001b[0m\u001b[0mfontsize\u001b[0m\u001b[1;33m=\u001b[0m\u001b[1;36m15\u001b[0m\u001b[1;33m)\u001b[0m\u001b[1;33m\u001b[0m\u001b[1;33m\u001b[0m\u001b[0m\n\u001b[0m\u001b[0;32m      3\u001b[0m \u001b[0mplt\u001b[0m\u001b[1;33m.\u001b[0m\u001b[0myaxis\u001b[0m\u001b[1;33m(\u001b[0m\u001b[1;34m'Total Count of customers'\u001b[0m\u001b[1;33m,\u001b[0m\u001b[0mfontsize\u001b[0m\u001b[1;33m=\u001b[0m\u001b[1;36m16\u001b[0m\u001b[1;33m)\u001b[0m\u001b[1;33m\u001b[0m\u001b[1;33m\u001b[0m\u001b[0m\n\u001b[0;32m      4\u001b[0m \u001b[0mfig\u001b[0m\u001b[1;33m.\u001b[0m\u001b[0mshow\u001b[0m\u001b[1;33m(\u001b[0m\u001b[1;33m)\u001b[0m\u001b[1;33m\u001b[0m\u001b[1;33m\u001b[0m\u001b[0m\n",
      "\u001b[1;31mAttributeError\u001b[0m: module 'matplotlib.pyplot' has no attribute 'xaxis'"
     ]
    },
    {
     "data": {
      "image/png": "[encoded data removed]",
      "text/plain": [
       "<Figure size 640x480 with 1 Axes>"
      ]
     },
     "metadata": {},
     "output_type": "display_data"
    }
   ],
   "source": [
    "\n",
    "\n",
    "sns.countplot(data=df, x='subscribed', color='y')\n",
    "plt.xaxis('Term deposit subscription',fontsize=15)\n",
    "plt.yaxis('Total Count of customers',fontsize=16)\n",
    "fig.show()"
   ]
  },
  {
   "cell_type": "markdown",
   "id": "1c2a7ec6",
   "metadata": {},
   "source": [
    "**observations :-**\n",
    "- Based on the analysis of the target column  (term deposit subscription), we found a significant gap in the ratio of customers who subscribed to the term deposit and those who did not. The ratio of non-subscribed to subscribed customers is 88:12, indicating that the bank invested a considerable amount of time, resources, and manpower without generating the desired outcome. To overcome this issue, we build a predictive model that can efficiently identify potential customers likely to subscribe to the term deposit, saving time and resources.\n",
    "\n",
    "- However, the data is also imbalanced, which can impact the accuracy of the predictive model. we implementing various techniques in feature engineering to balance the dataset and improve model performance."
   ]
  },
  {
   "cell_type": "code",
   "execution_count": null,
   "id": "cbf2e8b8",
   "metadata": {},
   "outputs": [],
   "source": [
    "# check the job categories wise bank customers total count using univariate\n",
    "sns.countplot(data=df, x='job', color='b')\n",
    "plt.xlabel('Job Categories of Bank Customers',fontsize=16)\n",
    "plt.ylabel('Total Count of customers',fontsize=16)\n",
    "fig.show()"
   ]
  },
  {
   "cell_type": "code",
   "execution_count": null,
   "id": "ebfdb973",
   "metadata": {},
   "outputs": [],
   "source": [
    "cat[0:10]\n"
   ]
  },
  {
   "cell_type": "code",
   "execution_count": null,
   "id": "5fa7d393",
   "metadata": {},
   "outputs": [],
   "source": [
    "fig = plt.figure(figsize=(25,46))\n",
    "for r in range(0,10):\n",
    "    ax = fig.add_subplot(5,2,r+1)\n",
    "    ax = df[cat[r]].value_counts().plot(kind = 'bar', rot=35, fontsize = 13)\n",
    "    ax.set_xlabel(cat[r],fontsize = 20)\n",
    "    ax.xaxis.set_label_coords(1.05, -0.025)\n",
    "    ax.set_ylabel('counts')\n"
   ]
  },
  {
   "cell_type": "markdown",
   "id": "7582193b",
   "metadata": {},
   "source": [
    "# Histogram of Numerical Variables"
   ]
  },
  {
   "cell_type": "code",
   "execution_count": null,
   "id": "05c76d2d",
   "metadata": {},
   "outputs": [],
   "source": [
    "num"
   ]
  },
  {
   "cell_type": "code",
   "execution_count": null,
   "id": "15c0e092",
   "metadata": {},
   "outputs": [],
   "source": [
    "fig = plt.figure(figsize=(18,18))\n",
    "for r in range(0,10):\n",
    "    ax = fig.add_subplot(5,2,r+1)\n",
    "    ax = df[num[r]].hist()\n",
    "    ax.set_xlabel(num[r])\n"
   ]
  },
  {
   "cell_type": "markdown",
   "id": "6f23f4fa",
   "metadata": {},
   "source": [
    "# Plot the Target Variable"
   ]
  },
  {
   "cell_type": "code",
   "execution_count": null,
   "id": "e07a96e1",
   "metadata": {},
   "outputs": [],
   "source": [
    "# Set figure size with matplotlib\n",
    "fig, axs = plt.subplots(1,2,figsize=(14,7))\n",
    "#create the frequency graph of Target variable deposit\n",
    "sns.countplot(x='subscribed',data=df, ax=axs[0])\n",
    "axs[0].set_title(\"Frequency of each Term Deposit Status\")\n",
    "#create the pie graph of Target variable deposit in term of percentage\n",
    "df.subscribed.value_counts().plot(x=None,y=None, kind='pie', ax=axs[1],autopct='%1.3f%%')\n",
    "axs[1].set_title(\"Percentage of each Term Deposit Status\")\n"
   ]
  },
  {
   "cell_type": "markdown",
   "id": "10d1ccda",
   "metadata": {},
   "source": [
    "**Findings:**\n",
    "\n",
    "    -Age is the only variable that might have a normal distribution.\n",
    "    -It looks like the target variable is imbalanced. It might affect certain machine learning algorithmn. We will resample the data and make the target variable balance.\n"
   ]
  },
  {
   "cell_type": "markdown",
   "id": "6215a604",
   "metadata": {},
   "source": [
    "# Correlation"
   ]
  },
  {
   "cell_type": "code",
   "execution_count": 23,
   "id": "abbac88d",
   "metadata": {},
   "outputs": [
    {
     "data": {
      "text/html": [
       "<div>\n",
       "<style scoped>\n",
       "    .dataframe tbody tr th:only-of-type {\n",
       "        vertical-align: middle;\n",
       "    }\n",
       "\n",
       "    .dataframe tbody tr th {\n",
       "        vertical-align: top;\n",
       "    }\n",
       "\n",
       "    .dataframe thead th {\n",
       "        text-align: right;\n",
       "    }\n",
       "</style>\n",
       "<table border=\"1\" class=\"dataframe\">\n",
       "  <thead>\n",
       "    <tr style=\"text-align: right;\">\n",
       "      <th></th>\n",
       "      <th>ID</th>\n",
       "      <th>age</th>\n",
       "      <th>balance</th>\n",
       "      <th>day</th>\n",
       "      <th>duration</th>\n",
       "      <th>campaign</th>\n",
       "      <th>pdays</th>\n",
       "      <th>previous</th>\n",
       "    </tr>\n",
       "  </thead>\n",
       "  <tbody>\n",
       "    <tr>\n",
       "      <th>ID</th>\n",
       "      <td>1.000000</td>\n",
       "      <td>0.010313</td>\n",
       "      <td>0.070771</td>\n",
       "      <td>-0.063714</td>\n",
       "      <td>0.007003</td>\n",
       "      <td>-0.102491</td>\n",
       "      <td>0.435899</td>\n",
       "      <td>0.253027</td>\n",
       "    </tr>\n",
       "    <tr>\n",
       "      <th>age</th>\n",
       "      <td>0.010313</td>\n",
       "      <td>1.000000</td>\n",
       "      <td>0.104529</td>\n",
       "      <td>-0.011720</td>\n",
       "      <td>-0.003669</td>\n",
       "      <td>0.007399</td>\n",
       "      <td>-0.022451</td>\n",
       "      <td>0.005896</td>\n",
       "    </tr>\n",
       "    <tr>\n",
       "      <th>balance</th>\n",
       "      <td>0.070771</td>\n",
       "      <td>0.104529</td>\n",
       "      <td>1.000000</td>\n",
       "      <td>0.003261</td>\n",
       "      <td>0.033502</td>\n",
       "      <td>-0.012641</td>\n",
       "      <td>0.002840</td>\n",
       "      <td>0.014571</td>\n",
       "    </tr>\n",
       "    <tr>\n",
       "      <th>day</th>\n",
       "      <td>-0.063714</td>\n",
       "      <td>-0.011720</td>\n",
       "      <td>0.003261</td>\n",
       "      <td>1.000000</td>\n",
       "      <td>-0.032071</td>\n",
       "      <td>0.159276</td>\n",
       "      <td>-0.087285</td>\n",
       "      <td>-0.048569</td>\n",
       "    </tr>\n",
       "    <tr>\n",
       "      <th>duration</th>\n",
       "      <td>0.007003</td>\n",
       "      <td>-0.003669</td>\n",
       "      <td>0.033502</td>\n",
       "      <td>-0.032071</td>\n",
       "      <td>1.000000</td>\n",
       "      <td>-0.081643</td>\n",
       "      <td>0.000392</td>\n",
       "      <td>0.003218</td>\n",
       "    </tr>\n",
       "    <tr>\n",
       "      <th>campaign</th>\n",
       "      <td>-0.102491</td>\n",
       "      <td>0.007399</td>\n",
       "      <td>-0.012641</td>\n",
       "      <td>0.159276</td>\n",
       "      <td>-0.081643</td>\n",
       "      <td>1.000000</td>\n",
       "      <td>-0.086937</td>\n",
       "      <td>-0.032731</td>\n",
       "    </tr>\n",
       "    <tr>\n",
       "      <th>pdays</th>\n",
       "      <td>0.435899</td>\n",
       "      <td>-0.022451</td>\n",
       "      <td>0.002840</td>\n",
       "      <td>-0.087285</td>\n",
       "      <td>0.000392</td>\n",
       "      <td>-0.086937</td>\n",
       "      <td>1.000000</td>\n",
       "      <td>0.428969</td>\n",
       "    </tr>\n",
       "    <tr>\n",
       "      <th>previous</th>\n",
       "      <td>0.253027</td>\n",
       "      <td>0.005896</td>\n",
       "      <td>0.014571</td>\n",
       "      <td>-0.048569</td>\n",
       "      <td>0.003218</td>\n",
       "      <td>-0.032731</td>\n",
       "      <td>0.428969</td>\n",
       "      <td>1.000000</td>\n",
       "    </tr>\n",
       "  </tbody>\n",
       "</table>\n",
       "</div>"
      ],
      "text/plain": [
       "                ID       age   balance       day  duration  campaign  \\\n",
       "ID        1.000000  0.010313  0.070771 -0.063714  0.007003 -0.102491   \n",
       "age       0.010313  1.000000  0.104529 -0.011720 -0.003669  0.007399   \n",
       "balance   0.070771  0.104529  1.000000  0.003261  0.033502 -0.012641   \n",
       "day      -0.063714 -0.011720  0.003261  1.000000 -0.032071  0.159276   \n",
       "duration  0.007003 -0.003669  0.033502 -0.032071  1.000000 -0.081643   \n",
       "campaign -0.102491  0.007399 -0.012641  0.159276 -0.081643  1.000000   \n",
       "pdays     0.435899 -0.022451  0.002840 -0.087285  0.000392 -0.086937   \n",
       "previous  0.253027  0.005896  0.014571 -0.048569  0.003218 -0.032731   \n",
       "\n",
       "             pdays  previous  \n",
       "ID        0.435899  0.253027  \n",
       "age      -0.022451  0.005896  \n",
       "balance   0.002840  0.014571  \n",
       "day      -0.087285 -0.048569  \n",
       "duration  0.000392  0.003218  \n",
       "campaign -0.086937 -0.032731  \n",
       "pdays     1.000000  0.428969  \n",
       "previous  0.428969  1.000000  "
      ]
     },
     "execution_count": 23,
     "metadata": {},
     "output_type": "execute_result"
    }
   ],
   "source": [
    "df.corr()"
   ]
  },
  {
   "cell_type": "code",
   "execution_count": 24,
   "id": "aed7e070",
   "metadata": {},
   "outputs": [
    {
     "data": {
      "image/png": "[encoded data removed]",
      "text/plain": [
       "<Figure size 1000x1000 with 2 Axes>"
      ]
     },
     "metadata": {},
     "output_type": "display_data"
    }
   ],
   "source": [
    "coreleation= df.corr()\n",
    "plt.figure(figsize=(10,10))\n",
    "sns.heatmap(coreleation,cbar=True,square=True,annot=True,fmt='.1f',annot_kws={'size': 15},alpha=0.7)\n",
    "plt.show()"
   ]
  },
  {
   "cell_type": "markdown",
   "id": "683037ee",
   "metadata": {},
   "source": [
    "# Outlier Detection"
   ]
  },
  {
   "cell_type": "code",
   "execution_count": 25,
   "id": "776c5e51",
   "metadata": {},
   "outputs": [
    {
     "data": {
      "image/png": "[encoded data removed]",
      "text/plain": [
       "<Figure size 2200x500 with 2 Axes>"
      ]
     },
     "metadata": {},
     "output_type": "display_data"
    }
   ],
   "source": [
    "# ploting a boxplot for numerical features to check the outliers\n",
    "\n",
    "columns = ['age','balance']\n",
    "\n",
    "plt.figure(figsize=(22,5))\n",
    "\n",
    "n = 1\n",
    "for col in columns:\n",
    "    ax = plt.subplot(1,2,n)\n",
    "    sns.boxplot(x=df[col], color='#8FBC8F')\n",
    "    plt.xlabel(col)\n",
    "    n += 1\n",
    "plt.show()"
   ]
  },
  {
   "cell_type": "markdown",
   "id": "0a903974",
   "metadata": {},
   "source": [
    "- In these scenarios, it is not advisable to remove outliers from the dataset as they contain valuable information. For example, in the bank balance column, some customers have high balances while some have non-positive balances. If we remove these outliers, our model will not have sufficient information to make accurate predictions, and there is a risk of overfitting.\n",
    "\n",
    "- Similarly, for the age column, there are outliers in the dataset, but we need to train our model to make predictions based on all available factors. If we remove the outliers, we may lose critical information that can affect the accuracy of our model. Therefore, it is important to keep the outliers in the dataset and use appropriate techniques to handle them during model training. here not any issue because we use robust algorithms."
   ]
  },
  {
   "cell_type": "markdown",
   "id": "1bea1bed",
   "metadata": {},
   "source": [
    "# Feature transformation"
   ]
  },
  {
   "cell_type": "code",
   "execution_count": 26,
   "id": "75e276da",
   "metadata": {},
   "outputs": [],
   "source": [
    "# converting job column into new categorical column by assinging categories\n",
    "\n",
    "def job_category(job):\n",
    "  cat_1 = ['retired','student']\n",
    "  cat_2 = ['blue-collar','management','technician','admin.','services']\n",
    "  cat_3 = ['unemployed','housemaid','unknown']\n",
    "  cat_4 = ['self-employed','entrepreneur']\n",
    "\n",
    "  if job in cat_1 :\n",
    "      return 'cat1'\n",
    "  if job in cat_2 :\n",
    "      return 'cat2'\n",
    "  if job in cat_3 :\n",
    "      return 'cat3'\n",
    "  if job in cat_4 :\n",
    "      return 'cat4'\n",
    "  return job"
   ]
  },
  {
   "cell_type": "code",
   "execution_count": 27,
   "id": "b7ff34fe",
   "metadata": {},
   "outputs": [
    {
     "data": {
      "text/html": [
       "<div>\n",
       "<style scoped>\n",
       "    .dataframe tbody tr th:only-of-type {\n",
       "        vertical-align: middle;\n",
       "    }\n",
       "\n",
       "    .dataframe tbody tr th {\n",
       "        vertical-align: top;\n",
       "    }\n",
       "\n",
       "    .dataframe thead th {\n",
       "        text-align: right;\n",
       "    }\n",
       "</style>\n",
       "<table border=\"1\" class=\"dataframe\">\n",
       "  <thead>\n",
       "    <tr style=\"text-align: right;\">\n",
       "      <th></th>\n",
       "      <th>ID</th>\n",
       "      <th>age</th>\n",
       "      <th>job</th>\n",
       "      <th>marital</th>\n",
       "      <th>education</th>\n",
       "      <th>default</th>\n",
       "      <th>balance</th>\n",
       "      <th>housing</th>\n",
       "      <th>loan</th>\n",
       "      <th>contact</th>\n",
       "      <th>day</th>\n",
       "      <th>month</th>\n",
       "      <th>duration</th>\n",
       "      <th>campaign</th>\n",
       "      <th>pdays</th>\n",
       "      <th>previous</th>\n",
       "      <th>poutcome</th>\n",
       "      <th>subscribed</th>\n",
       "      <th>job_categories</th>\n",
       "    </tr>\n",
       "  </thead>\n",
       "  <tbody>\n",
       "    <tr>\n",
       "      <th>28155</th>\n",
       "      <td>30320</td>\n",
       "      <td>35</td>\n",
       "      <td>management</td>\n",
       "      <td>divorced</td>\n",
       "      <td>tertiary</td>\n",
       "      <td>no</td>\n",
       "      <td>457</td>\n",
       "      <td>yes</td>\n",
       "      <td>no</td>\n",
       "      <td>cellular</td>\n",
       "      <td>5</td>\n",
       "      <td>feb</td>\n",
       "      <td>114</td>\n",
       "      <td>3</td>\n",
       "      <td>-1</td>\n",
       "      <td>0</td>\n",
       "      <td>unknown</td>\n",
       "      <td>no</td>\n",
       "      <td>cat2</td>\n",
       "    </tr>\n",
       "  </tbody>\n",
       "</table>\n",
       "</div>"
      ],
      "text/plain": [
       "          ID  age         job   marital education default  balance housing  \\\n",
       "28155  30320   35  management  divorced  tertiary      no      457     yes   \n",
       "\n",
       "      loan   contact  day month  duration  campaign  pdays  previous poutcome  \\\n",
       "28155   no  cellular    5   feb       114         3     -1         0  unknown   \n",
       "\n",
       "      subscribed job_categories  \n",
       "28155         no           cat2  "
      ]
     },
     "execution_count": 27,
     "metadata": {},
     "output_type": "execute_result"
    }
   ],
   "source": [
    "# apply function job_category for add new column in dataset\n",
    "\n",
    "df['job_categories']=df['job'].apply(job_category)\n",
    "\n",
    "df.sample()"
   ]
  },
  {
   "cell_type": "code",
   "execution_count": 28,
   "id": "a06be2f8",
   "metadata": {},
   "outputs": [
    {
     "data": {
      "image/png": "[encoded data removed]",
      "text/plain": [
       "<Figure size 1500x600 with 1 Axes>"
      ]
     },
     "metadata": {},
     "output_type": "display_data"
    }
   ],
   "source": [
    "# explore new column with term deposit(y) column\n",
    "\n",
    "types = df.groupby('job_categories')['subscribed'].value_counts(normalize=False).unstack()\n",
    "types.plot(kind='bar', xlabel=('Job Categories'), ylabel=('Term Deposit'), figsize=(15,6))\n",
    "plt.tight_layout()\n",
    "plt.show()"
   ]
  },
  {
   "cell_type": "markdown",
   "id": "e2e28865",
   "metadata": {},
   "source": [
    "**observations :-**\n",
    "\n",
    "- we observed that category 1 and 2 have a high subscription ratio of term deposit. However, we noticed that the bank contacted more customers in category 2 as compared to category 1. This suggests that the bank should focus more on category 2 customers, but at the same time, they should not ignore category 1 customers as well, because even though the number of customers is less, the ratio of subscribed customers is still high. \n",
    "\n",
    "- the bank should try to strike a balance between these two categories and allocate their resources accordingly to maximize their subscription rate."
   ]
  },
  {
   "cell_type": "code",
   "execution_count": 29,
   "id": "79184435",
   "metadata": {},
   "outputs": [],
   "source": [
    "# converting age column into new categorical column by assinging categories\n",
    "\n",
    "def age_category(age):\n",
    "  if age < 30:\n",
    "     return 'struggling'\n",
    "  elif age < 50:\n",
    "     return 'stable'\n",
    "  elif age < 60:\n",
    "     return 'about to retire'\n",
    "  elif age < 75:\n",
    "     return 'old age'\n",
    "  else: \n",
    "     return 'counting a last breathe'"
   ]
  },
  {
   "cell_type": "code",
   "execution_count": 30,
   "id": "36399a8b",
   "metadata": {},
   "outputs": [
    {
     "data": {
      "text/html": [
       "<div>\n",
       "<style scoped>\n",
       "    .dataframe tbody tr th:only-of-type {\n",
       "        vertical-align: middle;\n",
       "    }\n",
       "\n",
       "    .dataframe tbody tr th {\n",
       "        vertical-align: top;\n",
       "    }\n",
       "\n",
       "    .dataframe thead th {\n",
       "        text-align: right;\n",
       "    }\n",
       "</style>\n",
       "<table border=\"1\" class=\"dataframe\">\n",
       "  <thead>\n",
       "    <tr style=\"text-align: right;\">\n",
       "      <th></th>\n",
       "      <th>ID</th>\n",
       "      <th>age</th>\n",
       "      <th>job</th>\n",
       "      <th>marital</th>\n",
       "      <th>education</th>\n",
       "      <th>default</th>\n",
       "      <th>balance</th>\n",
       "      <th>housing</th>\n",
       "      <th>loan</th>\n",
       "      <th>contact</th>\n",
       "      <th>day</th>\n",
       "      <th>month</th>\n",
       "      <th>duration</th>\n",
       "      <th>campaign</th>\n",
       "      <th>pdays</th>\n",
       "      <th>previous</th>\n",
       "      <th>poutcome</th>\n",
       "      <th>subscribed</th>\n",
       "      <th>job_categories</th>\n",
       "      <th>age_categories</th>\n",
       "    </tr>\n",
       "  </thead>\n",
       "  <tbody>\n",
       "    <tr>\n",
       "      <th>25013</th>\n",
       "      <td>45023</td>\n",
       "      <td>42</td>\n",
       "      <td>admin.</td>\n",
       "      <td>married</td>\n",
       "      <td>unknown</td>\n",
       "      <td>no</td>\n",
       "      <td>756</td>\n",
       "      <td>no</td>\n",
       "      <td>no</td>\n",
       "      <td>cellular</td>\n",
       "      <td>14</td>\n",
       "      <td>oct</td>\n",
       "      <td>72</td>\n",
       "      <td>4</td>\n",
       "      <td>160</td>\n",
       "      <td>3</td>\n",
       "      <td>failure</td>\n",
       "      <td>no</td>\n",
       "      <td>cat2</td>\n",
       "      <td>stable</td>\n",
       "    </tr>\n",
       "  </tbody>\n",
       "</table>\n",
       "</div>"
      ],
      "text/plain": [
       "          ID  age     job  marital education default  balance housing loan  \\\n",
       "25013  45023   42  admin.  married   unknown      no      756      no   no   \n",
       "\n",
       "        contact  day month  duration  campaign  pdays  previous poutcome  \\\n",
       "25013  cellular   14   oct        72         4    160         3  failure   \n",
       "\n",
       "      subscribed job_categories age_categories  \n",
       "25013         no           cat2         stable  "
      ]
     },
     "execution_count": 30,
     "metadata": {},
     "output_type": "execute_result"
    }
   ],
   "source": [
    "# apply function age_category for add new column in dataset\n",
    "\n",
    "df['age_categories']=df['age'].apply(age_category)\n",
    "\n",
    "df.sample()"
   ]
  },
  {
   "cell_type": "code",
   "execution_count": 31,
   "id": "52267c06",
   "metadata": {},
   "outputs": [
    {
     "data": {
      "image/png": "[encoded data removed]",
      "text/plain": [
       "<Figure size 1800x600 with 1 Axes>"
      ]
     },
     "metadata": {},
     "output_type": "display_data"
    }
   ],
   "source": [
    "# explore new column age_categories with term deposit(y) column\n",
    "\n",
    "plt.figure(figsize=(18,6))\n",
    "\n",
    "sns.countplot(x='age_categories', hue='subscribed', data=df)\n",
    "plt.xlabel('age_categories', color='black')\n",
    "plt.tight_layout()\n",
    "plt.show()"
   ]
  },
  {
   "cell_type": "code",
   "execution_count": 32,
   "id": "7d88d747",
   "metadata": {},
   "outputs": [
    {
     "data": {
      "text/html": [
       "<div>\n",
       "<style scoped>\n",
       "    .dataframe tbody tr th:only-of-type {\n",
       "        vertical-align: middle;\n",
       "    }\n",
       "\n",
       "    .dataframe tbody tr th {\n",
       "        vertical-align: top;\n",
       "    }\n",
       "\n",
       "    .dataframe thead th {\n",
       "        text-align: right;\n",
       "    }\n",
       "</style>\n",
       "<table border=\"1\" class=\"dataframe\">\n",
       "  <thead>\n",
       "    <tr style=\"text-align: right;\">\n",
       "      <th></th>\n",
       "      <th>ID</th>\n",
       "      <th>age</th>\n",
       "      <th>job</th>\n",
       "      <th>marital</th>\n",
       "      <th>education</th>\n",
       "      <th>default</th>\n",
       "      <th>balance</th>\n",
       "      <th>housing</th>\n",
       "      <th>loan</th>\n",
       "      <th>contact</th>\n",
       "      <th>day</th>\n",
       "      <th>month</th>\n",
       "      <th>duration</th>\n",
       "      <th>campaign</th>\n",
       "      <th>pdays</th>\n",
       "      <th>previous</th>\n",
       "      <th>poutcome</th>\n",
       "      <th>subscribed</th>\n",
       "      <th>job_categories</th>\n",
       "      <th>age_categories</th>\n",
       "    </tr>\n",
       "  </thead>\n",
       "  <tbody>\n",
       "    <tr>\n",
       "      <th>23485</th>\n",
       "      <td>43708</td>\n",
       "      <td>37</td>\n",
       "      <td>technician</td>\n",
       "      <td>single</td>\n",
       "      <td>tertiary</td>\n",
       "      <td>0</td>\n",
       "      <td>197</td>\n",
       "      <td>0</td>\n",
       "      <td>0</td>\n",
       "      <td>cellular</td>\n",
       "      <td>13</td>\n",
       "      <td>may</td>\n",
       "      <td>234</td>\n",
       "      <td>1</td>\n",
       "      <td>87</td>\n",
       "      <td>3</td>\n",
       "      <td>success</td>\n",
       "      <td>1</td>\n",
       "      <td>cat2</td>\n",
       "      <td>stable</td>\n",
       "    </tr>\n",
       "  </tbody>\n",
       "</table>\n",
       "</div>"
      ],
      "text/plain": [
       "          ID  age         job marital education  default  balance  housing  \\\n",
       "23485  43708   37  technician  single  tertiary        0      197        0   \n",
       "\n",
       "       loan   contact  day month  duration  campaign  pdays  previous  \\\n",
       "23485     0  cellular   13   may       234         1     87         3   \n",
       "\n",
       "      poutcome  subscribed job_categories age_categories  \n",
       "23485  success           1           cat2         stable  "
      ]
     },
     "execution_count": 32,
     "metadata": {},
     "output_type": "execute_result"
    }
   ],
   "source": [
    "# converting those features into binary class numeric features\n",
    "\n",
    "df[\"default\"]=df[\"default\"].apply(lambda x : 1 if x=='yes' else 0)\n",
    "df[\"loan\"]=df[\"loan\"].apply(lambda x : 1 if x=='yes' else 0)\n",
    "df[\"housing\"]=df[\"housing\"].apply(lambda x : 1 if x=='yes' else 0)\n",
    "df[\"subscribed\"]=df[\"subscribed\"].apply(lambda x : 1 if x=='yes' else 0)\n",
    "\n",
    "df.sample()"
   ]
  },
  {
   "cell_type": "code",
   "execution_count": 33,
   "id": "c9457a93",
   "metadata": {},
   "outputs": [],
   "source": [
    "# droppping columns because we have extracted new features from that columns.\n",
    "\n",
    "df.drop(columns=['age','job','pdays','duration'], axis=1, inplace=True)"
   ]
  },
  {
   "cell_type": "markdown",
   "id": "6f5c1b86",
   "metadata": {},
   "source": [
    "**Note :-**\n",
    "\n",
    "- The columns 'pdays' and 'duration' were removed from the dataset as they are not relevant for building a predictive model for new customers. 'duration' represents the duration of the last contact with the customer in the previous campaign, and 'pdays' represents the number of days that have passed since the customer was last contacted. As we are building a model for new customers, this information is not available for them. Hence, removing these columns will prevent any bias or overfitting that may result from using irrelevant or unavailable data."
   ]
  },
  {
   "cell_type": "code",
   "execution_count": null,
   "id": "10f0fa76",
   "metadata": {},
   "outputs": [],
   "source": []
  },
  {
   "cell_type": "markdown",
   "id": "a9a06b94",
   "metadata": {},
   "source": [
    "# Data Preprocessing / Preparing Features for Machine Learning"
   ]
  },
  {
   "cell_type": "markdown",
   "id": "f95e93ab",
   "metadata": {},
   "source": [
    "checking missing values"
   ]
  },
  {
   "cell_type": "code",
   "execution_count": 34,
   "id": "beb9f1a1",
   "metadata": {},
   "outputs": [
    {
     "name": "stdout",
     "output_type": "stream",
     "text": [
      "Number of null values in each column:\n",
      "ID                0\n",
      "marital           0\n",
      "education         0\n",
      "default           0\n",
      "balance           0\n",
      "housing           0\n",
      "loan              0\n",
      "contact           0\n",
      "day               0\n",
      "month             0\n",
      "campaign          0\n",
      "previous          0\n",
      "poutcome          0\n",
      "subscribed        0\n",
      "job_categories    0\n",
      "age_categories    0\n",
      "dtype: int64\n"
     ]
    }
   ],
   "source": [
    "null_counts = df.isnull().sum()\n",
    "print(\"Number of null values in each column:\\n{}\".format(null_counts))\n"
   ]
  },
  {
   "cell_type": "code",
   "execution_count": 35,
   "id": "d6ed254d",
   "metadata": {},
   "outputs": [
    {
     "name": "stdout",
     "output_type": "stream",
     "text": [
      "Data types and their frequency\n",
      "int64     9\n",
      "object    7\n",
      "dtype: int64\n"
     ]
    }
   ],
   "source": [
    "print(\"Data types and their frequency\\n{}\".format(df.dtypes.value_counts()))\n"
   ]
  },
  {
   "cell_type": "markdown",
   "id": "5f8e316f",
   "metadata": {},
   "source": [
    "# Preparing for Categorical Variables / Convert Categorical Variables to Numeric Features# "
   ]
  },
  {
   "cell_type": "markdown",
   "id": "c30a8256",
   "metadata": {},
   "source": [
    "    Map Ordinal Values To Integers\n",
    "    Encode Nominal Values as Dummy Variables"
   ]
  },
  {
   "cell_type": "code",
   "execution_count": 36,
   "id": "aa2ec82a",
   "metadata": {},
   "outputs": [
    {
     "data": {
      "text/plain": [
       "['job',\n",
       " 'marital',\n",
       " 'education',\n",
       " 'default',\n",
       " 'housing',\n",
       " 'loan',\n",
       " 'contact',\n",
       " 'month',\n",
       " 'poutcome',\n",
       " 'subscribed']"
      ]
     },
     "execution_count": 36,
     "metadata": {},
     "output_type": "execute_result"
    }
   ],
   "source": [
    "cat"
   ]
  },
  {
   "cell_type": "code",
   "execution_count": 37,
   "id": "cb3a4d2d",
   "metadata": {},
   "outputs": [],
   "source": [
    "# Creating dummy variables for categorical variables\n",
    "\n",
    "marital = pd.get_dummies(df['marital'],prefix='marital')\n",
    "contact = pd.get_dummies(df['contact'], prefix='contact')\n",
    "poutcome = pd.get_dummies(df['poutcome'], prefix = 'poutcome')\n",
    "month = pd.get_dummies(df['month'], prefix = 'month')\n",
    "age_cat = pd.get_dummies(df['education'],prefix = 'education')\n",
    "job = pd.get_dummies(df['job_categories'],prefix = 'job_categories')\n",
    "education = pd.get_dummies(df['age_categories'],prefix = 'age_categories')"
   ]
  },
  {
   "cell_type": "code",
   "execution_count": 38,
   "id": "72347824",
   "metadata": {},
   "outputs": [],
   "source": [
    "df = pd.concat([df,marital,contact,poutcome,month,education,job,age_cat],axis=1)"
   ]
  },
  {
   "cell_type": "code",
   "execution_count": 39,
   "id": "506e8490",
   "metadata": {},
   "outputs": [],
   "source": [
    "# dropping original column\n",
    "\n",
    "df.drop(columns=['marital','contact','poutcome','month','education','job_categories','age_categories'], axis=1, inplace=True)"
   ]
  },
  {
   "cell_type": "code",
   "execution_count": 40,
   "id": "f4436bc8",
   "metadata": {},
   "outputs": [],
   "source": [
    "# dropping one of the resultant columns\n",
    "\n",
    "df.drop(columns=['marital_divorced','contact_unknown','poutcome_other','month_dec','education_unknown','job_categories_cat3',\n",
    "                      'age_categories_counting a last breathe'], axis=1, inplace=True)"
   ]
  },
  {
   "cell_type": "code",
   "execution_count": 41,
   "id": "cbee1d5d",
   "metadata": {},
   "outputs": [
    {
     "data": {
      "text/html": [
       "<div>\n",
       "<style scoped>\n",
       "    .dataframe tbody tr th:only-of-type {\n",
       "        vertical-align: middle;\n",
       "    }\n",
       "\n",
       "    .dataframe tbody tr th {\n",
       "        vertical-align: top;\n",
       "    }\n",
       "\n",
       "    .dataframe thead th {\n",
       "        text-align: right;\n",
       "    }\n",
       "</style>\n",
       "<table border=\"1\" class=\"dataframe\">\n",
       "  <thead>\n",
       "    <tr style=\"text-align: right;\">\n",
       "      <th></th>\n",
       "      <th>ID</th>\n",
       "      <th>default</th>\n",
       "      <th>balance</th>\n",
       "      <th>housing</th>\n",
       "      <th>loan</th>\n",
       "      <th>day</th>\n",
       "      <th>campaign</th>\n",
       "      <th>previous</th>\n",
       "      <th>subscribed</th>\n",
       "      <th>marital_married</th>\n",
       "      <th>...</th>\n",
       "      <th>age_categories_about to retire</th>\n",
       "      <th>age_categories_old age</th>\n",
       "      <th>age_categories_stable</th>\n",
       "      <th>age_categories_struggling</th>\n",
       "      <th>job_categories_cat1</th>\n",
       "      <th>job_categories_cat2</th>\n",
       "      <th>job_categories_cat4</th>\n",
       "      <th>education_primary</th>\n",
       "      <th>education_secondary</th>\n",
       "      <th>education_tertiary</th>\n",
       "    </tr>\n",
       "  </thead>\n",
       "  <tbody>\n",
       "    <tr>\n",
       "      <th>15745</th>\n",
       "      <td>40328</td>\n",
       "      <td>0</td>\n",
       "      <td>640</td>\n",
       "      <td>0</td>\n",
       "      <td>0</td>\n",
       "      <td>17</td>\n",
       "      <td>2</td>\n",
       "      <td>1</td>\n",
       "      <td>0</td>\n",
       "      <td>0</td>\n",
       "      <td>...</td>\n",
       "      <td>0</td>\n",
       "      <td>0</td>\n",
       "      <td>1</td>\n",
       "      <td>0</td>\n",
       "      <td>1</td>\n",
       "      <td>0</td>\n",
       "      <td>0</td>\n",
       "      <td>0</td>\n",
       "      <td>0</td>\n",
       "      <td>0</td>\n",
       "    </tr>\n",
       "  </tbody>\n",
       "</table>\n",
       "<p>1 rows × 37 columns</p>\n",
       "</div>"
      ],
      "text/plain": [
       "          ID  default  balance  housing  loan  day  campaign  previous  \\\n",
       "15745  40328        0      640        0     0   17         2         1   \n",
       "\n",
       "       subscribed  marital_married  ...  age_categories_about to retire  \\\n",
       "15745           0                0  ...                               0   \n",
       "\n",
       "       age_categories_old age  age_categories_stable  \\\n",
       "15745                       0                      1   \n",
       "\n",
       "       age_categories_struggling  job_categories_cat1  job_categories_cat2  \\\n",
       "15745                          0                    1                    0   \n",
       "\n",
       "       job_categories_cat4  education_primary  education_secondary  \\\n",
       "15745                    0                  0                    0   \n",
       "\n",
       "       education_tertiary  \n",
       "15745                   0  \n",
       "\n",
       "[1 rows x 37 columns]"
      ]
     },
     "execution_count": 41,
     "metadata": {},
     "output_type": "execute_result"
    }
   ],
   "source": [
    "df.sample()"
   ]
  },
  {
   "cell_type": "code",
   "execution_count": null,
   "id": "7de253ef",
   "metadata": {},
   "outputs": [],
   "source": []
  },
  {
   "cell_type": "code",
   "execution_count": 42,
   "id": "742c6651",
   "metadata": {},
   "outputs": [],
   "source": [
    "df1=df.drop(['ID'],axis=1)"
   ]
  },
  {
   "cell_type": "code",
   "execution_count": 43,
   "id": "f619f65b",
   "metadata": {},
   "outputs": [
    {
     "data": {
      "text/plain": [
       "(31306, 36)"
      ]
     },
     "execution_count": 43,
     "metadata": {},
     "output_type": "execute_result"
    }
   ],
   "source": [
    "df1.shape"
   ]
  },
  {
   "cell_type": "markdown",
   "id": "52757ef7",
   "metadata": {},
   "source": [
    "# Preparing for Numerical Variables"
   ]
  },
  {
   "cell_type": "markdown",
   "id": "880f67aa",
   "metadata": {},
   "source": [
    "-Input variable duration is highly affect the target variables. Therefore, I will remove it.\n"
   ]
  },
  {
   "cell_type": "code",
   "execution_count": null,
   "id": "a29e825a",
   "metadata": {},
   "outputs": [],
   "source": []
  },
  {
   "cell_type": "code",
   "execution_count": 44,
   "id": "ee86e17d",
   "metadata": {},
   "outputs": [
    {
     "data": {
      "text/plain": [
       "0    27932\n",
       "1     3374\n",
       "Name: subscribed, dtype: int64"
      ]
     },
     "execution_count": 44,
     "metadata": {},
     "output_type": "execute_result"
    }
   ],
   "source": [
    "df1['subscribed'].value_counts()\n"
   ]
  },
  {
   "cell_type": "markdown",
   "id": "c3281008",
   "metadata": {},
   "source": [
    "# `Splitting Dependent and Independent Variables`"
   ]
  },
  {
   "cell_type": "code",
   "execution_count": 45,
   "id": "d37256b6",
   "metadata": {},
   "outputs": [],
   "source": [
    "#seprating our dependent and independent features\n",
    "\n",
    "x=df1.drop(columns=['subscribed'],axis=1)\n",
    "y=(df1['subscribed'])"
   ]
  },
  {
   "cell_type": "code",
   "execution_count": 46,
   "id": "66c08483",
   "metadata": {},
   "outputs": [
    {
     "data": {
      "text/html": [
       "<div>\n",
       "<style scoped>\n",
       "    .dataframe tbody tr th:only-of-type {\n",
       "        vertical-align: middle;\n",
       "    }\n",
       "\n",
       "    .dataframe tbody tr th {\n",
       "        vertical-align: top;\n",
       "    }\n",
       "\n",
       "    .dataframe thead th {\n",
       "        text-align: right;\n",
       "    }\n",
       "</style>\n",
       "<table border=\"1\" class=\"dataframe\">\n",
       "  <thead>\n",
       "    <tr style=\"text-align: right;\">\n",
       "      <th></th>\n",
       "      <th>default</th>\n",
       "      <th>balance</th>\n",
       "      <th>housing</th>\n",
       "      <th>loan</th>\n",
       "      <th>day</th>\n",
       "      <th>campaign</th>\n",
       "      <th>previous</th>\n",
       "      <th>marital_married</th>\n",
       "      <th>marital_single</th>\n",
       "      <th>contact_cellular</th>\n",
       "      <th>...</th>\n",
       "      <th>age_categories_about to retire</th>\n",
       "      <th>age_categories_old age</th>\n",
       "      <th>age_categories_stable</th>\n",
       "      <th>age_categories_struggling</th>\n",
       "      <th>job_categories_cat1</th>\n",
       "      <th>job_categories_cat2</th>\n",
       "      <th>job_categories_cat4</th>\n",
       "      <th>education_primary</th>\n",
       "      <th>education_secondary</th>\n",
       "      <th>education_tertiary</th>\n",
       "    </tr>\n",
       "  </thead>\n",
       "  <tbody>\n",
       "    <tr>\n",
       "      <th>0</th>\n",
       "      <td>0</td>\n",
       "      <td>1933</td>\n",
       "      <td>0</td>\n",
       "      <td>0</td>\n",
       "      <td>19</td>\n",
       "      <td>2</td>\n",
       "      <td>0</td>\n",
       "      <td>1</td>\n",
       "      <td>0</td>\n",
       "      <td>0</td>\n",
       "      <td>...</td>\n",
       "      <td>1</td>\n",
       "      <td>0</td>\n",
       "      <td>0</td>\n",
       "      <td>0</td>\n",
       "      <td>0</td>\n",
       "      <td>1</td>\n",
       "      <td>0</td>\n",
       "      <td>0</td>\n",
       "      <td>0</td>\n",
       "      <td>0</td>\n",
       "    </tr>\n",
       "    <tr>\n",
       "      <th>1</th>\n",
       "      <td>0</td>\n",
       "      <td>3</td>\n",
       "      <td>0</td>\n",
       "      <td>0</td>\n",
       "      <td>20</td>\n",
       "      <td>2</td>\n",
       "      <td>0</td>\n",
       "      <td>1</td>\n",
       "      <td>0</td>\n",
       "      <td>1</td>\n",
       "      <td>...</td>\n",
       "      <td>0</td>\n",
       "      <td>0</td>\n",
       "      <td>1</td>\n",
       "      <td>0</td>\n",
       "      <td>0</td>\n",
       "      <td>0</td>\n",
       "      <td>0</td>\n",
       "      <td>0</td>\n",
       "      <td>1</td>\n",
       "      <td>0</td>\n",
       "    </tr>\n",
       "    <tr>\n",
       "      <th>2</th>\n",
       "      <td>0</td>\n",
       "      <td>891</td>\n",
       "      <td>1</td>\n",
       "      <td>0</td>\n",
       "      <td>18</td>\n",
       "      <td>1</td>\n",
       "      <td>0</td>\n",
       "      <td>1</td>\n",
       "      <td>0</td>\n",
       "      <td>1</td>\n",
       "      <td>...</td>\n",
       "      <td>0</td>\n",
       "      <td>0</td>\n",
       "      <td>0</td>\n",
       "      <td>1</td>\n",
       "      <td>0</td>\n",
       "      <td>1</td>\n",
       "      <td>0</td>\n",
       "      <td>0</td>\n",
       "      <td>1</td>\n",
       "      <td>0</td>\n",
       "    </tr>\n",
       "    <tr>\n",
       "      <th>3</th>\n",
       "      <td>0</td>\n",
       "      <td>3287</td>\n",
       "      <td>0</td>\n",
       "      <td>0</td>\n",
       "      <td>22</td>\n",
       "      <td>1</td>\n",
       "      <td>3</td>\n",
       "      <td>0</td>\n",
       "      <td>0</td>\n",
       "      <td>1</td>\n",
       "      <td>...</td>\n",
       "      <td>1</td>\n",
       "      <td>0</td>\n",
       "      <td>0</td>\n",
       "      <td>0</td>\n",
       "      <td>0</td>\n",
       "      <td>1</td>\n",
       "      <td>0</td>\n",
       "      <td>0</td>\n",
       "      <td>0</td>\n",
       "      <td>1</td>\n",
       "    </tr>\n",
       "    <tr>\n",
       "      <th>4</th>\n",
       "      <td>0</td>\n",
       "      <td>119</td>\n",
       "      <td>1</td>\n",
       "      <td>0</td>\n",
       "      <td>4</td>\n",
       "      <td>1</td>\n",
       "      <td>0</td>\n",
       "      <td>1</td>\n",
       "      <td>0</td>\n",
       "      <td>1</td>\n",
       "      <td>...</td>\n",
       "      <td>0</td>\n",
       "      <td>0</td>\n",
       "      <td>1</td>\n",
       "      <td>0</td>\n",
       "      <td>0</td>\n",
       "      <td>1</td>\n",
       "      <td>0</td>\n",
       "      <td>0</td>\n",
       "      <td>1</td>\n",
       "      <td>0</td>\n",
       "    </tr>\n",
       "  </tbody>\n",
       "</table>\n",
       "<p>5 rows × 35 columns</p>\n",
       "</div>"
      ],
      "text/plain": [
       "   default  balance  housing  loan  day  campaign  previous  marital_married  \\\n",
       "0        0     1933        0     0   19         2         0                1   \n",
       "1        0        3        0     0   20         2         0                1   \n",
       "2        0      891        1     0   18         1         0                1   \n",
       "3        0     3287        0     0   22         1         3                0   \n",
       "4        0      119        1     0    4         1         0                1   \n",
       "\n",
       "   marital_single  contact_cellular  ...  age_categories_about to retire  \\\n",
       "0               0                 0  ...                               1   \n",
       "1               0                 1  ...                               0   \n",
       "2               0                 1  ...                               0   \n",
       "3               0                 1  ...                               1   \n",
       "4               0                 1  ...                               0   \n",
       "\n",
       "   age_categories_old age  age_categories_stable  age_categories_struggling  \\\n",
       "0                       0                      0                          0   \n",
       "1                       0                      1                          0   \n",
       "2                       0                      0                          1   \n",
       "3                       0                      0                          0   \n",
       "4                       0                      1                          0   \n",
       "\n",
       "   job_categories_cat1  job_categories_cat2  job_categories_cat4  \\\n",
       "0                    0                    1                    0   \n",
       "1                    0                    0                    0   \n",
       "2                    0                    1                    0   \n",
       "3                    0                    1                    0   \n",
       "4                    0                    1                    0   \n",
       "\n",
       "   education_primary  education_secondary  education_tertiary  \n",
       "0                  0                    0                   0  \n",
       "1                  0                    1                   0  \n",
       "2                  0                    1                   0  \n",
       "3                  0                    0                   1  \n",
       "4                  0                    1                   0  \n",
       "\n",
       "[5 rows x 35 columns]"
      ]
     },
     "execution_count": 46,
     "metadata": {},
     "output_type": "execute_result"
    }
   ],
   "source": [
    "x.head()"
   ]
  },
  {
   "cell_type": "code",
   "execution_count": 47,
   "id": "4d13426d",
   "metadata": {},
   "outputs": [
    {
     "data": {
      "text/plain": [
       "0    0\n",
       "1    0\n",
       "2    0\n",
       "3    1\n",
       "4    0\n",
       "Name: subscribed, dtype: int64"
      ]
     },
     "execution_count": 47,
     "metadata": {},
     "output_type": "execute_result"
    }
   ],
   "source": [
    "y.head()"
   ]
  },
  {
   "cell_type": "markdown",
   "id": "ec515371",
   "metadata": {},
   "source": [
    "# SMOTHE oversampling for handling imbalanced class"
   ]
  },
  {
   "cell_type": "code",
   "execution_count": 48,
   "id": "649e209b",
   "metadata": {},
   "outputs": [],
   "source": [
    "from imblearn.over_sampling import SMOTE\n"
   ]
  },
  {
   "cell_type": "code",
   "execution_count": 49,
   "id": "dada9151",
   "metadata": {},
   "outputs": [],
   "source": [
    "sampler=SMOTE()\n",
    "X ,y = sampler.fit_resample(x,y)"
   ]
  },
  {
   "cell_type": "code",
   "execution_count": 50,
   "id": "9477a615",
   "metadata": {},
   "outputs": [
    {
     "name": "stdout",
     "output_type": "stream",
     "text": [
      "Original Dataset length 31306\n",
      "Resampled Dataset length 55864\n"
     ]
    }
   ],
   "source": [
    "# Original length and Resampled Length\n",
    "\n",
    "print('Original Dataset length',len(x))\n",
    "print('Resampled Dataset length',len(X))"
   ]
  },
  {
   "cell_type": "markdown",
   "id": "2e4b5927",
   "metadata": {},
   "source": [
    "# splitting dataset"
   ]
  },
  {
   "cell_type": "code",
   "execution_count": 54,
   "id": "b65e008f",
   "metadata": {},
   "outputs": [
    {
     "name": "stdout",
     "output_type": "stream",
     "text": [
      "(39104, 35)\n",
      "(16760, 35)\n",
      "(39104,)\n",
      "(16760,)\n"
     ]
    }
   ],
   "source": [
    "# calling train_test_split() to get the training and testing data.\n",
    "\n",
    "X_train,X_test,y_train,y_test = train_test_split(X,y,test_size=0.3,random_state=56)\n",
    "\n",
    "# split sizes\n",
    "print(X_train.shape)\n",
    "print(X_test.shape)\n",
    "print(y_train.shape)\n",
    "print(y_test.shape)"
   ]
  },
  {
   "cell_type": "markdown",
   "id": "078a9350",
   "metadata": {},
   "source": [
    "# Standard Scaling"
   ]
  },
  {
   "cell_type": "code",
   "execution_count": 52,
   "id": "0fe02657",
   "metadata": {},
   "outputs": [],
   "source": [
    "from sklearn.preprocessing import StandardScaler\n",
    "scaler= StandardScaler()\n",
    "X_scale = scaler.fit_transform(X)\n"
   ]
  },
  {
   "cell_type": "markdown",
   "id": "53762c7e",
   "metadata": {},
   "source": [
    "# Machine Learning"
   ]
  },
  {
   "cell_type": "code",
   "execution_count": 51,
   "id": "9bb1ec32",
   "metadata": {},
   "outputs": [],
   "source": [
    "from sklearn.preprocessing import StandardScaler\n",
    "from sklearn.model_selection import train_test_split, KFold, cross_val_score,GridSearchCV\n",
    "from sklearn.metrics import roc_auc_score, confusion_matrix,precision_score, recall_score, accuracy_score,classification_report,roc_curve,f1_score    \n",
    "from sklearn.linear_model import LogisticRegression\n",
    "from sklearn.tree import DecisionTreeClassifier\n",
    "from sklearn.neighbors import KNeighborsClassifier\n",
    "from sklearn.discriminant_analysis import LinearDiscriminantAnalysis\n",
    "from sklearn.naive_bayes import GaussianNB\n",
    "from sklearn.ensemble import AdaBoostClassifier, GradientBoostingClassifier, RandomForestClassifier, ExtraTreesClassifier\n",
    "from sklearn.model_selection import cross_val_predict\n",
    "from sklearn.utils import resample\n",
    "from sklearn.base import BaseEstimator, TransformerMixin\n",
    "from sklearn.pipeline import Pipeline, FeatureUnion"
   ]
  },
  {
   "cell_type": "markdown",
   "id": "66bae131",
   "metadata": {},
   "source": [
    "# Finding best Random state¶\n"
   ]
  },
  {
   "cell_type": "code",
   "execution_count": 65,
   "id": "40aefa41",
   "metadata": {},
   "outputs": [
    {
     "name": "stdout",
     "output_type": "stream",
     "text": [
      "Best accuracy is 0.9337708830548926 on Random_state 56\n"
     ]
    }
   ],
   "source": [
    "from sklearn.linear_model import LogisticRegression\n",
    "from sklearn.metrics import accuracy_score, confusion_matrix,classification_report,f1_score\n",
    "maxAccu=0\n",
    "maxRS=0\n",
    "for i in range(50,300):\n",
    "    X_train,X_test,y_train,y_test = train_test_split(X_scale,y,test_size = 0.3, random_state=i)\n",
    "    log_reg=LogisticRegression()\n",
    "    log_reg.fit(X_train,y_train)\n",
    "    y_pred=log_reg.predict(X_test)\n",
    "    acc=accuracy_score(y_test,y_pred)\n",
    "    if acc>maxAccu:\n",
    "        maxAccu=acc\n",
    "        maxRS=i\n",
    "print('Best accuracy is', maxAccu ,'on Random_state', maxRS)"
   ]
  },
  {
   "cell_type": "code",
   "execution_count": 58,
   "id": "f98a6425",
   "metadata": {},
   "outputs": [
    {
     "name": "stderr",
     "output_type": "stream",
     "text": [
      "C:\\New folder\\lib\\site-packages\\sklearn\\linear_model\\_logistic.py:814: ConvergenceWarning: lbfgs failed to converge (status=1):\n",
      "STOP: TOTAL NO. of ITERATIONS REACHED LIMIT.\n",
      "\n",
      "Increase the number of iterations (max_iter) or scale the data as shown in:\n",
      "    https://scikit-learn.org/stable/modules/preprocessing.html\n",
      "Please also refer to the documentation for alternative solver options:\n",
      "    https://scikit-learn.org/stable/modules/linear_model.html#logistic-regression\n",
      "  n_iter_i = _check_optimize_result(\n"
     ]
    },
    {
     "name": "stdout",
     "output_type": "stream",
     "text": [
      "\u001b[1m Classification ML Algorithm Evaluation Matrix LogisticRegression() is\u001b[0m\n",
      "\n",
      "\n",
      "\u001b[1mAccuracy Score  :\u001b[0m 0.8160501193317422\n",
      "\n",
      "\n",
      "\u001b[1mConfusion matrix  :\u001b[0m \n",
      " [[7321 1076]\n",
      " [2007 6356]]\n",
      "\n",
      "\n",
      "\u001b[1mclassification Report\u001b[0m \n",
      "               precision    recall  f1-score   support\n",
      "\n",
      "           0       0.78      0.87      0.83      8397\n",
      "           1       0.86      0.76      0.80      8363\n",
      "\n",
      "    accuracy                           0.82     16760\n",
      "   macro avg       0.82      0.82      0.82     16760\n",
      "weighted avg       0.82      0.82      0.82     16760\n",
      "\n"
     ]
    },
    {
     "name": "stderr",
     "output_type": "stream",
     "text": [
      "C:\\New folder\\lib\\site-packages\\sklearn\\neighbors\\_classification.py:228: FutureWarning: Unlike other reduction functions (e.g. `skew`, `kurtosis`), the default behavior of `mode` typically preserves the axis it acts along. In SciPy 1.11.0, this behavior will change: the default value of `keepdims` will become False, the `axis` over which the statistic is taken will be eliminated, and the value None will no longer be accepted. Set `keepdims` to True or False to avoid this warning.\n",
      "  mode, _ = stats.mode(_y[neigh_ind, k], axis=1)\n"
     ]
    },
    {
     "name": "stdout",
     "output_type": "stream",
     "text": [
      "\u001b[1m Classification ML Algorithm Evaluation Matrix KNeighborsClassifier() is\u001b[0m\n",
      "\n",
      "\n",
      "\u001b[1mAccuracy Score  :\u001b[0m 0.8109785202863962\n",
      "\n",
      "\n",
      "\u001b[1mConfusion matrix  :\u001b[0m \n",
      " [[5691 2706]\n",
      " [ 462 7901]]\n",
      "\n",
      "\n",
      "\u001b[1mclassification Report\u001b[0m \n",
      "               precision    recall  f1-score   support\n",
      "\n",
      "           0       0.92      0.68      0.78      8397\n",
      "           1       0.74      0.94      0.83      8363\n",
      "\n",
      "    accuracy                           0.81     16760\n",
      "   macro avg       0.83      0.81      0.81     16760\n",
      "weighted avg       0.84      0.81      0.81     16760\n",
      "\n",
      "\u001b[1m Classification ML Algorithm Evaluation Matrix DecisionTreeClassifier() is\u001b[0m\n",
      "\n",
      "\n",
      "\u001b[1mAccuracy Score  :\u001b[0m 0.9041766109785203\n",
      "\n",
      "\n",
      "\u001b[1mConfusion matrix  :\u001b[0m \n",
      " [[7472  925]\n",
      " [ 681 7682]]\n",
      "\n",
      "\n",
      "\u001b[1mclassification Report\u001b[0m \n",
      "               precision    recall  f1-score   support\n",
      "\n",
      "           0       0.92      0.89      0.90      8397\n",
      "           1       0.89      0.92      0.91      8363\n",
      "\n",
      "    accuracy                           0.90     16760\n",
      "   macro avg       0.90      0.90      0.90     16760\n",
      "weighted avg       0.90      0.90      0.90     16760\n",
      "\n",
      "\u001b[1m Classification ML Algorithm Evaluation Matrix RandomForestClassifier() is\u001b[0m\n",
      "\n",
      "\n",
      "\u001b[1mAccuracy Score  :\u001b[0m 0.9385441527446301\n",
      "\n",
      "\n",
      "\u001b[1mConfusion matrix  :\u001b[0m \n",
      " [[8042  355]\n",
      " [ 675 7688]]\n",
      "\n",
      "\n",
      "\u001b[1mclassification Report\u001b[0m \n",
      "               precision    recall  f1-score   support\n",
      "\n",
      "           0       0.92      0.96      0.94      8397\n",
      "           1       0.96      0.92      0.94      8363\n",
      "\n",
      "    accuracy                           0.94     16760\n",
      "   macro avg       0.94      0.94      0.94     16760\n",
      "weighted avg       0.94      0.94      0.94     16760\n",
      "\n",
      "\u001b[1m Classification ML Algorithm Evaluation Matrix GradientBoostingClassifier() is\u001b[0m\n",
      "\n",
      "\n",
      "\u001b[1mAccuracy Score  :\u001b[0m 0.9308472553699284\n",
      "\n",
      "\n",
      "\u001b[1mConfusion matrix  :\u001b[0m \n",
      " [[8047  350]\n",
      " [ 809 7554]]\n",
      "\n",
      "\n",
      "\u001b[1mclassification Report\u001b[0m \n",
      "               precision    recall  f1-score   support\n",
      "\n",
      "           0       0.91      0.96      0.93      8397\n",
      "           1       0.96      0.90      0.93      8363\n",
      "\n",
      "    accuracy                           0.93     16760\n",
      "   macro avg       0.93      0.93      0.93     16760\n",
      "weighted avg       0.93      0.93      0.93     16760\n",
      "\n"
     ]
    }
   ],
   "source": [
    "from sklearn.svm import SVC\n",
    "\n",
    "model=[ LogisticRegression(),KNeighborsClassifier(),\n",
    "        DecisionTreeClassifier(),\n",
    "        RandomForestClassifier(),\n",
    "        GradientBoostingClassifier(),\n",
    "        ]\n",
    "for m in model:\n",
    "    m.fit(X_train,y_train)\n",
    "    y_pred=m.predict(X_test)\n",
    "    print('\\033[1m'+' Classification ML Algorithm Evaluation Matrix',m,'is'+'\\033[0m')\n",
    "    print('\\n')\n",
    "    print('\\033[1m'+'Accuracy Score  :'+'\\033[0m', accuracy_score(y_test, y_pred))\n",
    "    print('\\n')\n",
    "    print('\\033[1m'+'Confusion matrix  :'+'\\033[0m \\n',confusion_matrix(y_test, y_pred))\n",
    "    print('\\n')\n",
    "    print('\\033[1m'+'classification Report'+'\\033[0m \\n',classification_report(y_test, y_pred))\n"
   ]
  },
  {
   "cell_type": "markdown",
   "id": "4ce240e2",
   "metadata": {},
   "source": [
    "from the above we can see that RandomForestClassifier() is giving the maximum accuracy"
   ]
  },
  {
   "cell_type": "markdown",
   "id": "b61dfaf1",
   "metadata": {},
   "source": [
    "#  Cross Validation Score"
   ]
  },
  {
   "cell_type": "code",
   "execution_count": 59,
   "id": "b49165e9",
   "metadata": {},
   "outputs": [
    {
     "name": "stderr",
     "output_type": "stream",
     "text": [
      "C:\\New folder\\lib\\site-packages\\sklearn\\linear_model\\_logistic.py:814: ConvergenceWarning: lbfgs failed to converge (status=1):\n",
      "STOP: TOTAL NO. of ITERATIONS REACHED LIMIT.\n",
      "\n",
      "Increase the number of iterations (max_iter) or scale the data as shown in:\n",
      "    https://scikit-learn.org/stable/modules/preprocessing.html\n",
      "Please also refer to the documentation for alternative solver options:\n",
      "    https://scikit-learn.org/stable/modules/linear_model.html#logistic-regression\n",
      "  n_iter_i = _check_optimize_result(\n",
      "C:\\New folder\\lib\\site-packages\\sklearn\\linear_model\\_logistic.py:814: ConvergenceWarning: lbfgs failed to converge (status=1):\n",
      "STOP: TOTAL NO. of ITERATIONS REACHED LIMIT.\n",
      "\n",
      "Increase the number of iterations (max_iter) or scale the data as shown in:\n",
      "    https://scikit-learn.org/stable/modules/preprocessing.html\n",
      "Please also refer to the documentation for alternative solver options:\n",
      "    https://scikit-learn.org/stable/modules/linear_model.html#logistic-regression\n",
      "  n_iter_i = _check_optimize_result(\n",
      "C:\\New folder\\lib\\site-packages\\sklearn\\linear_model\\_logistic.py:814: ConvergenceWarning: lbfgs failed to converge (status=1):\n",
      "STOP: TOTAL NO. of ITERATIONS REACHED LIMIT.\n",
      "\n",
      "Increase the number of iterations (max_iter) or scale the data as shown in:\n",
      "    https://scikit-learn.org/stable/modules/preprocessing.html\n",
      "Please also refer to the documentation for alternative solver options:\n",
      "    https://scikit-learn.org/stable/modules/linear_model.html#logistic-regression\n",
      "  n_iter_i = _check_optimize_result(\n",
      "C:\\New folder\\lib\\site-packages\\sklearn\\linear_model\\_logistic.py:814: ConvergenceWarning: lbfgs failed to converge (status=1):\n",
      "STOP: TOTAL NO. of ITERATIONS REACHED LIMIT.\n",
      "\n",
      "Increase the number of iterations (max_iter) or scale the data as shown in:\n",
      "    https://scikit-learn.org/stable/modules/preprocessing.html\n",
      "Please also refer to the documentation for alternative solver options:\n",
      "    https://scikit-learn.org/stable/modules/linear_model.html#logistic-regression\n",
      "  n_iter_i = _check_optimize_result(\n",
      "C:\\New folder\\lib\\site-packages\\sklearn\\linear_model\\_logistic.py:814: ConvergenceWarning: lbfgs failed to converge (status=1):\n",
      "STOP: TOTAL NO. of ITERATIONS REACHED LIMIT.\n",
      "\n",
      "Increase the number of iterations (max_iter) or scale the data as shown in:\n",
      "    https://scikit-learn.org/stable/modules/preprocessing.html\n",
      "Please also refer to the documentation for alternative solver options:\n",
      "    https://scikit-learn.org/stable/modules/linear_model.html#logistic-regression\n",
      "  n_iter_i = _check_optimize_result(\n"
     ]
    },
    {
     "name": "stdout",
     "output_type": "stream",
     "text": [
      "\n",
      "\n",
      "Cross Validation Score LogisticRegression() :\n",
      "Score : [0.71645932 0.87460843 0.83791283 0.88731764 0.84541711]\n",
      "Mean Score 0.8323430666269438\n",
      "Std Deviation 0.06072818147978216\n",
      "\n",
      "\n",
      "---------------------------------\n",
      "\n",
      "\n",
      "Cross Validation Score DecisionTreeClassifier() :\n",
      "Score : [0.72469346 0.93743847 0.93887049 0.93708046 0.93501611]\n",
      "Mean Score 0.8946197980150667\n",
      "Std Deviation 0.08497210564679238\n",
      "\n",
      "\n",
      "---------------------------------\n",
      "\n",
      "\n",
      "Cross Validation Score RandomForestClassifier() :\n",
      "Score : [0.73292759 0.97162803 0.97386557 0.97404457 0.97180451]\n",
      "Mean Score 0.924854055392666\n",
      "Std Deviation 0.0959684868848195\n",
      "\n",
      "\n",
      "---------------------------------\n"
     ]
    }
   ],
   "source": [
    "from sklearn.model_selection import cross_val_score\n",
    "model=[ LogisticRegression(),\n",
    "        DecisionTreeClassifier(),\n",
    "        RandomForestClassifier()\n",
    "        ]\n",
    "\n",
    "for m in model:\n",
    "    score = cross_val_score(m, X,y, cv =5)\n",
    "    print('\\n')\n",
    "    print('Cross Validation Score', m, ':')\n",
    "    print(\"Score :\" ,score)\n",
    "    print('Mean Score',score.mean())\n",
    "    print('Std Deviation',score.std())\n",
    "    print('\\n')\n",
    "    print('---------------------------------')    \n",
    "\n"
   ]
  },
  {
   "cell_type": "markdown",
   "id": "25fafd2c",
   "metadata": {},
   "source": [
    "# hyperparameter tuning"
   ]
  },
  {
   "cell_type": "code",
   "execution_count": 60,
   "id": "ab57fe6a",
   "metadata": {},
   "outputs": [],
   "source": [
    "from sklearn.ensemble import RandomForestClassifier\n",
    "from sklearn.model_selection import GridSearchCV\n",
    "# giving parameters\n",
    "parameters = {\n",
    "    'n_estimators':[200,500],\n",
    "    'max_depth' :[4,6,8]\n",
    "}\n",
    " \n"
   ]
  },
  {
   "cell_type": "code",
   "execution_count": null,
   "id": "2b0ce4ef",
   "metadata": {},
   "outputs": [],
   "source": [
    "# we use gridsearchCV because the dataset is not that big so we use this not RandomizedSearchCV\n",
    "rfc=GridSearchCV(RandomForestClassifier(), param_grid=parameters , cv=5)\n",
    "rfc.fit(X_train,y_train)\n",
    "print('\\n')\n",
    "print('\\033[1mCross-validation Test score and best params\\033[0m')\n",
    "print(\"The best parameters is\", rfc.best_params_)\n",
    "print('cross-validation score', rfc.best_score_)\n"
   ]
  },
  {
   "cell_type": "markdown",
   "id": "a43bbb84",
   "metadata": {},
   "source": [
    "# Final model"
   ]
  },
  {
   "cell_type": "code",
   "execution_count": 65,
   "id": "89703e84",
   "metadata": {},
   "outputs": [
    {
     "name": "stdout",
     "output_type": "stream",
     "text": [
      "\u001b[1mFinal RandomForest Classifier  Model\u001b[0m\n",
      "\u001b[1mAccuracy Score :\u001b[0m\n",
      " 0.8970167064439141\n",
      "\n",
      "\n",
      "\u001b[1mConfusion matrix  :\u001b[0m \n",
      " [[7691  706]\n",
      " [1020 7343]]\n",
      "\n",
      "\n",
      "\u001b[1mClassification Report \u001b[0m \n",
      "               precision    recall  f1-score   support\n",
      "\n",
      "           0       0.88      0.92      0.90      8397\n",
      "           1       0.91      0.88      0.89      8363\n",
      "\n",
      "    accuracy                           0.90     16760\n",
      "   macro avg       0.90      0.90      0.90     16760\n",
      "weighted avg       0.90      0.90      0.90     16760\n",
      "\n"
     ]
    }
   ],
   "source": [
    "Final_mod = RandomForestClassifier( max_depth= 6, n_estimators= 200,random_state= 56)\n",
    "Final_mod.fit(X_train,y_train)\n",
    "y_pred=Final_mod.predict(X_test)\n",
    "print('\\033[1m'+'Final RandomForest Classifier  Model'+'\\033[0m')\n",
    "print('\\033[1m'+'Accuracy Score :'+'\\033[0m\\n', accuracy_score(y_test, y_pred))\n",
    "print('\\n')\n",
    "print('\\033[1m'+'Confusion matrix  :'+'\\033[0m \\n',confusion_matrix(y_test, y_pred))\n",
    "print('\\n')\n",
    "print('\\033[1m'+'Classification Report '+'\\033[0m \\n',classification_report(y_test, y_pred))"
   ]
  },
  {
   "cell_type": "markdown",
   "id": "72f3a5ac",
   "metadata": {},
   "source": [
    "# saving the model"
   ]
  },
  {
   "cell_type": "code",
   "execution_count": 66,
   "id": "a64c4a1e",
   "metadata": {},
   "outputs": [
    {
     "data": {
      "text/plain": [
       "['Bank_Marketing_Project.pkl']"
      ]
     },
     "execution_count": 66,
     "metadata": {},
     "output_type": "execute_result"
    }
   ],
   "source": [
    "import joblib\n",
    "joblib.dump(Final_mod,'Bank_Marketing_Project.pkl')\n"
   ]
  },
  {
   "cell_type": "markdown",
   "id": "ed287613",
   "metadata": {},
   "source": [
    "# prediction of final model"
   ]
  },
  {
   "cell_type": "code",
   "execution_count": 67,
   "id": "5c4f75ac",
   "metadata": {},
   "outputs": [],
   "source": [
    "prediction = Final_mod.predict(X_test)\n"
   ]
  },
  {
   "cell_type": "code",
   "execution_count": 69,
   "id": "1e0dafe3",
   "metadata": {},
   "outputs": [
    {
     "data": {
      "text/html": [
       "<div>\n",
       "<style scoped>\n",
       "    .dataframe tbody tr th:only-of-type {\n",
       "        vertical-align: middle;\n",
       "    }\n",
       "\n",
       "    .dataframe tbody tr th {\n",
       "        vertical-align: top;\n",
       "    }\n",
       "\n",
       "    .dataframe thead th {\n",
       "        text-align: right;\n",
       "    }\n",
       "</style>\n",
       "<table border=\"1\" class=\"dataframe\">\n",
       "  <thead>\n",
       "    <tr style=\"text-align: right;\">\n",
       "      <th></th>\n",
       "      <th>Predicted Values</th>\n",
       "      <th>Actual Values</th>\n",
       "    </tr>\n",
       "  </thead>\n",
       "  <tbody>\n",
       "    <tr>\n",
       "      <th>0</th>\n",
       "      <td>0</td>\n",
       "      <td>0</td>\n",
       "    </tr>\n",
       "    <tr>\n",
       "      <th>1</th>\n",
       "      <td>1</td>\n",
       "      <td>1</td>\n",
       "    </tr>\n",
       "    <tr>\n",
       "      <th>2</th>\n",
       "      <td>1</td>\n",
       "      <td>0</td>\n",
       "    </tr>\n",
       "    <tr>\n",
       "      <th>3</th>\n",
       "      <td>0</td>\n",
       "      <td>1</td>\n",
       "    </tr>\n",
       "    <tr>\n",
       "      <th>4</th>\n",
       "      <td>1</td>\n",
       "      <td>0</td>\n",
       "    </tr>\n",
       "  </tbody>\n",
       "</table>\n",
       "</div>"
      ],
      "text/plain": [
       "   Predicted Values  Actual Values\n",
       "0                 0              0\n",
       "1                 1              1\n",
       "2                 1              0\n",
       "3                 0              1\n",
       "4                 1              0"
      ]
     },
     "execution_count": 69,
     "metadata": {},
     "output_type": "execute_result"
    }
   ],
   "source": [
    "Actual = np.array(y_test)\n",
    "df_Pred = pd.DataFrame()\n",
    "df_Pred[\"Predicted Values\"] = prediction\n",
    "df_Pred[\"Actual Values\"] = Actual\n",
    "df_Pred.head()"
   ]
  },
  {
   "cell_type": "code",
   "execution_count": null,
   "id": "01cbe193",
   "metadata": {},
   "outputs": [],
   "source": []
  },
  {
   "cell_type": "code",
   "execution_count": null,
   "id": "23c94e0e",
   "metadata": {},
   "outputs": [],
   "source": []
  }
 ],
 "metadata": {
  "kernelspec": {
   "display_name": "Python 3 (ipykernel)",
   "language": "python",
   "name": "python3"
  },
  "language_info": {
   "codemirror_mode": {
    "name": "ipython",
    "version": 3
   },
   "file_extension": ".py",
   "mimetype": "text/x-python",
   "name": "python",
   "nbconvert_exporter": "python",
   "pygments_lexer": "ipython3",
   "version": "3.9.13"
  }
 },
 "nbformat": 4,
 "nbformat_minor": 5
}
